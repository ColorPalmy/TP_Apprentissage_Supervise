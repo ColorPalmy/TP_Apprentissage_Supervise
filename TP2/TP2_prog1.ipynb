{
 "cells": [
  {
   "cell_type": "code",
   "execution_count": 2,
   "metadata": {},
   "outputs": [],
   "source": [
    "from sklearn.datasets import fetch_openml\n",
    "from sklearn.model_selection import train_test_split\n",
    "from sklearn.model_selection import KFold\n",
    "from sklearn.metrics import precision_score, recall_score, zero_one_loss\n",
    "import sklearn.neural_network as nn\n",
    "import numpy as np\n",
    "import matplotlib.pyplot as plt\n",
    "import time"
   ]
  },
  {
   "cell_type": "code",
   "execution_count": 3,
   "metadata": {},
   "outputs": [],
   "source": [
    "mnist = fetch_openml('mnist_784')"
   ]
  },
  {
   "cell_type": "code",
   "execution_count": 4,
   "metadata": {},
   "outputs": [
    {
     "name": "stderr",
     "output_type": "stream",
     "text": [
      "C:\\Users\\linam\\Anaconda3\\lib\\site-packages\\sklearn\\model_selection\\_split.py:2179: FutureWarning: From version 0.21, test_size will always complement train_size unless both are specified.\n",
      "  FutureWarning)\n"
     ]
    },
    {
     "name": "stdout",
     "output_type": "stream",
     "text": [
      "(49000, 784)\n"
     ]
    }
   ],
   "source": [
    "data = mnist.data\n",
    "target = mnist.target\n",
    "#division de la base en données d'apprentissage (49000) et de test\n",
    "datatrain, datatest, targettrain, targettest = train_test_split(data, target,train_size=0.70)\n",
    "print(datatrain.shape)"
   ]
  },
  {
   "cell_type": "code",
   "execution_count": 5,
   "metadata": {},
   "outputs": [
    {
     "name": "stderr",
     "output_type": "stream",
     "text": [
      "C:\\Users\\linam\\Anaconda3\\lib\\site-packages\\sklearn\\neural_network\\multilayer_perceptron.py:564: UserWarning: Training interrupted by user.\n",
      "  warnings.warn(\"Training interrupted by user.\")\n"
     ]
    },
    {
     "data": {
      "text/plain": [
       "0.9488571428571428"
      ]
     },
     "execution_count": 5,
     "metadata": {},
     "output_type": "execute_result"
    }
   ],
   "source": [
    "mlp = nn.MLPClassifier(hidden_layer_sizes=(50))\n",
    "mlp.fit(datatrain,targettrain)\n",
    "mlp.score(datatest,targettest)"
   ]
  },
  {
   "cell_type": "code",
   "execution_count": 8,
   "metadata": {},
   "outputs": [
    {
     "name": "stdout",
     "output_type": "stream",
     "text": [
      "1\n",
      "1\n"
     ]
    }
   ],
   "source": [
    "print(targettest[3])\n",
    "print(mlp.predict(datatest)[3])"
   ]
  },
  {
   "cell_type": "code",
   "execution_count": 10,
   "metadata": {},
   "outputs": [
    {
     "data": {
      "text/plain": [
       "0.9434761904761905"
      ]
     },
     "execution_count": 10,
     "metadata": {},
     "output_type": "execute_result"
    }
   ],
   "source": [
    "precision_score(targettest,mlp.predict(datatest),average='micro')"
   ]
  },
  {
   "cell_type": "code",
   "execution_count": 12,
   "metadata": {},
   "outputs": [
    {
     "name": "stdout",
     "output_type": "stream",
     "text": [
      "precision = 0.9601428571428572 pour 2 couches\n",
      "precision = 0.9674761904761905 pour 10 couches\n",
      "precision = 0.967 pour 20 couches\n",
      "precision = 0.8991904761904762 pour 50 couches\n",
      "precision = 0.10976190476190475 pour 100 couches\n"
     ]
    }
   ],
   "source": [
    "precisions_couches = []\n",
    "temps_couches = []\n",
    "rappel_couches = []\n",
    "erreur_couches = []\n",
    "for nb_c in [2,10,20,50,70,100]:\n",
    "    hls = tuple(50 for i in range(nb_c))\n",
    "    mlp = nn.MLPClassifier(hidden_layer_sizes=hls)\n",
    "    start_time = time.time()\n",
    "    mlp.fit(datatrain,targettrain)\n",
    "    elapsed = time.time()-start_time\n",
    "    prec = mlp.score(datatest,targettest)\n",
    "    precisions_couches.append(prec)\n",
    "    temps_couches.append(elapsed)\n",
    "    rap = recall_score(targettest,testpred,average='micro')\n",
    "    err = zero_one_loss(targettest,testpred)\n",
    "    rappel_couches.append(rap)\n",
    "    erreur_couches.append(err)\n",
    "    prec_train = mlp.score(datatrain,targettrain)\n",
    "    print(\"precision =\", prec, \"temps =\", elapsed,\"sur train =\",prec_train, \"pour\", nb_c,\"couches\")"
   ]
  },
  {
   "cell_type": "code",
   "execution_count": 1,
   "metadata": {},
   "outputs": [
    {
     "ename": "NameError",
     "evalue": "name 'nn' is not defined",
     "output_type": "error",
     "traceback": [
      "\u001b[1;31m---------------------------------------------------------------------------\u001b[0m",
      "\u001b[1;31mNameError\u001b[0m                                 Traceback (most recent call last)",
      "\u001b[1;32m<ipython-input-1-896ec47572db>\u001b[0m in \u001b[0;36m<module>\u001b[1;34m\u001b[0m\n\u001b[0;32m      5\u001b[0m \u001b[1;32mfor\u001b[0m \u001b[0mnb_n\u001b[0m \u001b[1;32min\u001b[0m \u001b[1;33m[\u001b[0m\u001b[1;36m5\u001b[0m\u001b[1;33m,\u001b[0m\u001b[1;36m10\u001b[0m\u001b[1;33m,\u001b[0m\u001b[1;36m20\u001b[0m\u001b[1;33m,\u001b[0m\u001b[1;36m30\u001b[0m\u001b[1;33m,\u001b[0m\u001b[1;36m40\u001b[0m\u001b[1;33m,\u001b[0m\u001b[1;36m50\u001b[0m\u001b[1;33m,\u001b[0m\u001b[1;36m60\u001b[0m\u001b[1;33m,\u001b[0m\u001b[1;36m70\u001b[0m\u001b[1;33m,\u001b[0m\u001b[1;36m80\u001b[0m\u001b[1;33m,\u001b[0m\u001b[1;36m90\u001b[0m\u001b[1;33m,\u001b[0m\u001b[1;36m100\u001b[0m\u001b[1;33m,\u001b[0m\u001b[1;36m150\u001b[0m\u001b[1;33m,\u001b[0m\u001b[1;36m200\u001b[0m\u001b[1;33m,\u001b[0m\u001b[1;36m300\u001b[0m\u001b[1;33m]\u001b[0m\u001b[1;33m:\u001b[0m\u001b[1;33m\u001b[0m\u001b[1;33m\u001b[0m\u001b[0m\n\u001b[0;32m      6\u001b[0m     \u001b[0mhls\u001b[0m \u001b[1;33m=\u001b[0m \u001b[0mtuple\u001b[0m\u001b[1;33m(\u001b[0m\u001b[0mnb_n\u001b[0m \u001b[1;32mfor\u001b[0m \u001b[0mi\u001b[0m \u001b[1;32min\u001b[0m \u001b[0mrange\u001b[0m\u001b[1;33m(\u001b[0m\u001b[1;36m10\u001b[0m\u001b[1;33m)\u001b[0m\u001b[1;33m)\u001b[0m\u001b[1;33m\u001b[0m\u001b[1;33m\u001b[0m\u001b[0m\n\u001b[1;32m----> 7\u001b[1;33m     \u001b[0mmlp\u001b[0m \u001b[1;33m=\u001b[0m \u001b[0mnn\u001b[0m\u001b[1;33m.\u001b[0m\u001b[0mMLPClassifier\u001b[0m\u001b[1;33m(\u001b[0m\u001b[0mhidden_layer_sizes\u001b[0m\u001b[1;33m=\u001b[0m\u001b[0mhls\u001b[0m\u001b[1;33m)\u001b[0m\u001b[1;33m\u001b[0m\u001b[1;33m\u001b[0m\u001b[0m\n\u001b[0m\u001b[0;32m      8\u001b[0m     \u001b[0mstart_time\u001b[0m \u001b[1;33m=\u001b[0m \u001b[0mtime\u001b[0m\u001b[1;33m.\u001b[0m\u001b[0mtime\u001b[0m\u001b[1;33m(\u001b[0m\u001b[1;33m)\u001b[0m\u001b[1;33m\u001b[0m\u001b[1;33m\u001b[0m\u001b[0m\n\u001b[0;32m      9\u001b[0m     \u001b[0mmlp\u001b[0m\u001b[1;33m.\u001b[0m\u001b[0mfit\u001b[0m\u001b[1;33m(\u001b[0m\u001b[0mdatatrain\u001b[0m\u001b[1;33m,\u001b[0m\u001b[0mtargettrain\u001b[0m\u001b[1;33m)\u001b[0m\u001b[1;33m\u001b[0m\u001b[1;33m\u001b[0m\u001b[0m\n",
      "\u001b[1;31mNameError\u001b[0m: name 'nn' is not defined"
     ]
    }
   ],
   "source": [
    "precisions_neurones = []\n",
    "temps_neurones = []\n",
    "rappel_neurones = []\n",
    "erreur_neurones = []\n",
    "for nb_n in [5,10,20,30,40,50,60,70,80,90,100,150,200,300]:\n",
    "    hls = tuple(nb_n for i in range(10))\n",
    "    mlp = nn.MLPClassifier(hidden_layer_sizes=hls)\n",
    "    start_time = time.time()\n",
    "    mlp.fit(datatrain,targettrain)\n",
    "    elapsed = time.time()-start_time\n",
    "    prec = mlp.score(datatest,targettest)\n",
    "    precisions_neurones.append(prec)\n",
    "    temps_neurones.append(elapsed)\n",
    "    rap = recall_score(targettest,testpred,average='micro')\n",
    "    err = zero_one_loss(targettest,testpred)\n",
    "    rappel_neurones.append(rap)\n",
    "    erreur_neurones.append(err)\n",
    "    prec_train = mlp.score(datatrain,targettrain)\n",
    "    print(\"precision =\", prec, \"temps =\", elapsed,\"sur train =\",prec_train, \"pour\", nb_n,\"neurones\")"
   ]
  },
  {
   "cell_type": "code",
   "execution_count": 38,
   "metadata": {},
   "outputs": [
    {
     "name": "stdout",
     "output_type": "stream",
     "text": [
      "10 couches: precision = 0.10976190476190475 temps = 281.03453159332275\n",
      "0.11371428571428571\n"
     ]
    }
   ],
   "source": [
    "tpl4 = tuple(i for i in range(10,60,5))\n",
    "mlp = nn.MLPClassifier(hidden_layer_sizes=hls)\n",
    "start_time = time.time()\n",
    "mlp.fit(datatrain,targettrain)\n",
    "elapsed = time.time() - start_time\n",
    "prec = mlp.score(datatest,targettest)\n",
    "print(\"10 couches: precision =\",prec,\"temps =\",elapsed)\n",
    "prec_train = mlp.score(datatrain,targettrain)\n",
    "print(prec_train)"
   ]
  },
  {
   "cell_type": "code",
   "execution_count": 23,
   "metadata": {},
   "outputs": [
    {
     "name": "stdout",
     "output_type": "stream",
     "text": [
      "50 couches: precision = 0.10976190476190475 temps = 226.70809483528137\n"
     ]
    }
   ],
   "source": [
    "tpl1 = tuple(60-i for i in range(50))\n",
    "mlp = nn.MLPClassifier(hidden_layer_sizes=hls)\n",
    "start_time = time.time()\n",
    "mlp.fit(datatrain,targettrain)\n",
    "elapsed = time.time() - start_time\n",
    "prec = mlp.score(datatest,targettest)\n",
    "print(\"50 couches: precision =\",prec,\"temps =\",elapsed)\n",
    "prec_train = mlp.score(datatrain,targettrain)\n",
    "print(prec_train)"
   ]
  },
  {
   "cell_type": "code",
   "execution_count": 24,
   "metadata": {},
   "outputs": [
    {
     "name": "stdout",
     "output_type": "stream",
     "text": [
      "20 couches: precision = 0.10976190476190475 temps = 177.14149069786072\n"
     ]
    }
   ],
   "source": [
    "pas = int(-49/20)\n",
    "tpl2 = tuple(i for i in range(60,10,pas))\n",
    "mlp = nn.MLPClassifier(hidden_layer_sizes=hls)\n",
    "start_time = time.time()\n",
    "mlp.fit(datatrain,targettrain)\n",
    "elapsed = time.time() - start_time\n",
    "prec = mlp.score(datatest,targettest)\n",
    "print(\"20 couches: precision =\",prec,\"temps =\",elapsed)\n",
    "prec_train = mlp.score(datatrain,targettrain)\n",
    "print(prec_train)"
   ]
  },
  {
   "cell_type": "code",
   "execution_count": 34,
   "metadata": {},
   "outputs": [
    {
     "name": "stdout",
     "output_type": "stream",
     "text": [
      "20 couches: precision = 0.10976190476190475 temps = 221.64930701255798\n",
      "0.11371428571428571\n"
     ]
    }
   ],
   "source": [
    "tpl3 = tuple(i for i in range(60,13,3))\n",
    "mlp = nn.MLPClassifier(hidden_layer_sizes=hls)\n",
    "start_time = time.time()\n",
    "mlp.fit(datatrain,targettrain)\n",
    "elapsed = time.time() - start_time\n",
    "prec = mlp.score(datatest,targettest)\n",
    "print(\"20 couches: precision =\",prec,\"temps =\",elapsed)\n",
    "prec_train = mlp.score(datatrain,targettrain)\n",
    "print(prec_train)"
   ]
  },
  {
   "cell_type": "code",
   "execution_count": 31,
   "metadata": {},
   "outputs": [],
   "source": [
    "nb_couches = 10\n",
    "archi = tuple(50 for i in range(nb_couches))"
   ]
  },
  {
   "cell_type": "code",
   "execution_count": 32,
   "metadata": {},
   "outputs": [
    {
     "name": "stdout",
     "output_type": "stream",
     "text": [
      "precision = 0.9422380952380952 rappel = 0.9422380952380952 erreur = 0.05776190476190479 temps = 228.75178408622742 pour lbfgs\n",
      "precision = 0.9628571428571429 rappel = 0.9628571428571429 erreur = 0.037142857142857144 temps = 176.46123909950256 pour sgd\n",
      "precision = 0.9699523809523809 rappel = 0.9699523809523809 erreur = 0.0300476190476191 temps = 155.81297302246094 pour adam\n"
     ]
    }
   ],
   "source": [
    "precisions_algos = []\n",
    "rappel_algos = []\n",
    "temps_algos = []\n",
    "erreur_algos = []\n",
    "for s in [\"lbfgs\",\"sgd\",\"adam\"]:\n",
    "    mlp = nn.MLPClassifier(hidden_layer_sizes=archi,solver=s)\n",
    "    start_time = time.time()\n",
    "    mlp.fit(datatrain,targettrain)\n",
    "    elapsed = time.time()-start_time\n",
    "    testpred = mlp.predict(datatest)\n",
    "    prec = mlp.score(datatest,targettest)\n",
    "    rap = recall_score(targettest,testpred,average='micro')\n",
    "    err = zero_one_loss(targettest,testpred)\n",
    "    precisions_algos.append(prec)\n",
    "    rappel_algos.append(rap)\n",
    "    temps_algos.append(elapsed)\n",
    "    erreur_algos.append(err)\n",
    "    print(\"precision =\", prec,\"rappel =\",rap,\"erreur =\",err,\"temps =\",elapsed,\"pour\",s)"
   ]
  },
  {
   "cell_type": "code",
   "execution_count": 33,
   "metadata": {},
   "outputs": [
    {
     "name": "stdout",
     "output_type": "stream",
     "text": [
      "precision = 0.9094761904761904 rappel = 0.9094761904761904 erreur = 0.09052380952380956 temps = 244.09543204307556 pour identity\n",
      "precision = 0.10976190476190475 rappel = 0.10976190476190475 erreur = 0.8902380952380953 temps = 64.16234230995178 pour logistic\n",
      "precision = 0.9204285714285714 rappel = 0.9204285714285714 erreur = 0.07957142857142863 temps = 67.05857253074646 pour tanh\n",
      "precision = 0.9693333333333334 rappel = 0.9693333333333334 erreur = 0.03066666666666662 temps = 125.73065257072449 pour relu\n"
     ]
    }
   ],
   "source": [
    "precisions_activ = []\n",
    "rappel_activ = []\n",
    "temps_activ = []\n",
    "erreur_activ = []\n",
    "for a in [\"identity\", \"logistic\", \"tanh\", \"relu\"]:\n",
    "    mlp = nn.MLPClassifier(hidden_layer_sizes=archi,activation=a)\n",
    "    start_time = time.time()\n",
    "    mlp.fit(datatrain,targettrain)\n",
    "    elapsed = time.time()-start_time\n",
    "    testpred = mlp.predict(datatest)\n",
    "    prec = mlp.score(datatest,targettest)\n",
    "    rap = recall_score(targettest,testpred,average='micro')\n",
    "    err = zero_one_loss(targettest,testpred)\n",
    "    precisions_activ.append(prec)\n",
    "    rappel_activ.append(rap)\n",
    "    temps_activ.append(elapsed)\n",
    "    erreur_activ.append(err)\n",
    "    print(\"precision =\", prec,\"rappel =\",rap,\"erreur =\",err,\"temps =\",elapsed,\"pour\",a)"
   ]
  },
  {
   "cell_type": "code",
   "execution_count": null,
   "metadata": {},
   "outputs": [],
   "source": [
    "fig, ax1 = plt.subplots()\n",
    "\n",
    "color = 'tab:blue'\n",
    "ax1.set_xlabel('size')\n",
    "ax1.set_ylabel('score', color=color)\n",
    "ax1.plot([\"identity\", \"logistic\", \"tanh\", \"relu\"],scores_pourc,'+-',color=color)\n",
    "ax1.tick_params(axis='y', labelcolor=color)\n",
    "\n",
    "ax2 = ax1.twinx()\n",
    "\n",
    "color = 'tab:red'\n",
    "ax2.set_ylabel('execution time', color=color)\n",
    "ax2.plot(np.arange(2000,57001,5000),time_s,'r+-',color=color)\n",
    "ax2.tick_params(axis='y', labelcolor=color)\n",
    "\n",
    "fig.tight_layout()\n",
    "plt.show()"
   ]
  },
  {
   "cell_type": "code",
   "execution_count": 35,
   "metadata": {},
   "outputs": [
    {
     "name": "stdout",
     "output_type": "stream",
     "text": [
      "precision = 0.9691904761904762 rappel = 0.9691904761904762 erreur = 0.030809523809523842 temps = 141.5098752975464 pour 0.1\n",
      "precision = 0.9686666666666667 rappel = 0.9686666666666667 erreur = 0.031333333333333324 temps = 196.37343740463257 pour 0.01\n",
      "precision = 0.9688571428571429 rappel = 0.9688571428571429 erreur = 0.03114285714285714 temps = 112.71634268760681 pour 0.001\n",
      "precision = 0.9711904761904762 rappel = 0.9711904761904762 erreur = 0.02880952380952384 temps = 171.95429587364197 pour 0.0001\n",
      "precision = 0.9714285714285714 rappel = 0.9714285714285714 erreur = 0.02857142857142858 temps = 143.44412970542908 pour 1e-05\n",
      "precision = 0.9693809523809523 rappel = 0.9693809523809523 erreur = 0.030619047619047657 temps = 157.66384482383728 pour 1e-06\n",
      "precision = 0.9685714285714285 rappel = 0.9685714285714285 erreur = 0.03142857142857147 temps = 160.22101187705994 pour 1e-07\n",
      "precision = 0.9711904761904762 rappel = 0.9711904761904762 erreur = 0.02880952380952384 temps = 133.51481080055237 pour 1e-08\n"
     ]
    }
   ],
   "source": [
    "precisions_regul = []\n",
    "rappel_regul = []\n",
    "temps_regul = []\n",
    "erreur_regul = []\n",
    "for a in [1e-1, 1e-2, 1e-3, 1e-4, 1e-5, 1e-6, 1e-7, 1e-8]:\n",
    "    mlp = nn.MLPClassifier(hidden_layer_sizes=archi,alpha=a)\n",
    "    start_time = time.time()\n",
    "    mlp.fit(datatrain,targettrain)\n",
    "    elapsed = time.time()-start_time\n",
    "    testpred = mlp.predict(datatest)\n",
    "    prec = mlp.score(datatest,targettest)\n",
    "    rap = recall_score(targettest,testpred,average='micro')\n",
    "    err = zero_one_loss(targettest,testpred)\n",
    "    precisions_regul.append(prec)\n",
    "    rappel_regul.append(rap)\n",
    "    temps_regul.append(elapsed)\n",
    "    erreur_regul.append(err)\n",
    "    print(\"precision =\", prec,\"rappel =\",rap,\"erreur =\",err,\"temps =\",elapsed,\"pour\",a)"
   ]
  },
  {
   "cell_type": "code",
   "execution_count": 37,
   "metadata": {},
   "outputs": [
    {
     "data": {
      "image/png": "[encoded data removed]",
      "text/plain": [
       "<Figure size 432x288 with 2 Axes>"
      ]
     },
     "metadata": {
      "needs_background": "light"
     },
     "output_type": "display_data"
    }
   ],
   "source": [
    "fig, ax1 = plt.subplots()\n",
    "\n",
    "color = 'tab:blue'\n",
    "ax1.set_xlabel('size')\n",
    "ax1.set_xscale(\"log\")\n",
    "ax1.set_ylabel('score', color=color)\n",
    "ax1.plot([1e-1, 1e-2, 1e-3, 1e-4, 1e-5, 1e-6, 1e-7, 1e-8],precisions_regul,'+-',color=color)\n",
    "ax1.tick_params(axis='y', labelcolor=color)\n",
    "\n",
    "ax2 = ax1.twinx()\n",
    "\n",
    "color = 'tab:red'\n",
    "ax2.set_ylabel('execution time', color=color)\n",
    "ax2.plot([1e-1, 1e-2, 1e-3, 1e-4, 1e-5, 1e-6, 1e-7, 1e-8],temps_regul,'r+-',color=color)\n",
    "ax2.tick_params(axis='y', labelcolor=color)\n",
    "\n",
    "fig.tight_layout()\n",
    "plt.show()"
   ]
  }
 ],
 "metadata": {
  "kernelspec": {
   "display_name": "Python 3",
   "language": "python",
   "name": "python3"
  },
  "language_info": {
   "codemirror_mode": {
    "name": "ipython",
    "version": 3
   },
   "file_extension": ".py",
   "mimetype": "text/x-python",
   "name": "python",
   "nbconvert_exporter": "python",
   "pygments_lexer": "ipython3",
   "version": "3.7.3"
  }
 },
 "nbformat": 4,
 "nbformat_minor": 2
}
