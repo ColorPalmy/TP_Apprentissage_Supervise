{
 "cells": [
  {
   "cell_type": "code",
   "execution_count": 2,
   "metadata": {},
   "outputs": [],
   "source": [
    "from sklearn.datasets import fetch_openml\n",
    "from sklearn.model_selection import train_test_split\n",
    "from sklearn.model_selection import KFold\n",
    "from sklearn.metrics import precision_score, recall_score, zero_one_loss, confusion_matrix\n",
    "import sklearn.neural_network as nn\n",
    "import numpy as np\n",
    "import matplotlib.pyplot as plt\n",
    "import time"
   ]
  },
  {
   "cell_type": "code",
   "execution_count": 3,
   "metadata": {},
   "outputs": [],
   "source": [
    "mnist = fetch_openml('mnist_784')"
   ]
  },
  {
   "cell_type": "code",
   "execution_count": 4,
   "metadata": {},
   "outputs": [
    {
     "name": "stdout",
     "output_type": "stream",
     "text": [
      "(3500, 784)\n"
     ]
    },
    {
     "name": "stderr",
     "output_type": "stream",
     "text": [
      "C:\\Users\\linam\\Anaconda3\\lib\\site-packages\\sklearn\\model_selection\\_split.py:2179: FutureWarning: From version 0.21, test_size will always complement train_size unless both are specified.\n",
      "  FutureWarning)\n"
     ]
    }
   ],
   "source": [
    "#tableau de 5000 valeurs aléatoires entre à et 70000\n",
    "index = np.random.randint(70000, size=5000)\n",
    "#échantillon de 5000 données de Mnist\n",
    "data = mnist.data[index]\n",
    "#étiquettes correspondant aux 5000 données échantillons\n",
    "target = mnist.target[index]\n",
    "#division de la base en données d'apprentissage (70%) et de test (30%)\n",
    "datatrain, datatest, targettrain, targettest = train_test_split(data, target,train_size=0.70)\n",
    "#data = mnist.data\n",
    "#target = mnist.target\n",
    "#division de la base en données d'apprentissage (49000) et de test\n",
    "#datatrain, datatest, targettrain, targettest = train_test_split(data, target,train_size=0.70)\n",
    "print(datatrain.shape)"
   ]
  },
  {
   "cell_type": "code",
   "execution_count": 5,
   "metadata": {},
   "outputs": [
    {
     "data": {
      "text/plain": [
       "0.8533333333333334"
      ]
     },
     "execution_count": 5,
     "metadata": {},
     "output_type": "execute_result"
    }
   ],
   "source": [
    "mlp = nn.MLPClassifier(hidden_layer_sizes=(50))\n",
    "mlp.fit(datatrain,targettrain)\n",
    "mlp.score(datatest,targettest)"
   ]
  },
  {
   "cell_type": "code",
   "execution_count": 6,
   "metadata": {},
   "outputs": [
    {
     "name": "stdout",
     "output_type": "stream",
     "text": [
      "2\n",
      "2\n"
     ]
    }
   ],
   "source": [
    "print(targettest[3])\n",
    "print(mlp.predict(datatest)[3])"
   ]
  },
  {
   "cell_type": "code",
   "execution_count": 8,
   "metadata": {},
   "outputs": [
    {
     "name": "stdout",
     "output_type": "stream",
     "text": [
      "131 ms ± 3.77 ms per loop (mean ± std. dev. of 7 runs, 10 loops each)\n"
     ]
    }
   ],
   "source": [
    "%timeit precision_score(targettest,mlp.predict(datatest),average='micro')"
   ]
  },
  {
   "cell_type": "code",
   "execution_count": 7,
   "metadata": {},
   "outputs": [
    {
     "name": "stdout",
     "output_type": "stream",
     "text": [
      "precision = 0.84 temps = 6.59375 time = 4.224783182144165 sur train = 1.0 pour 2 couches\n",
      "precision = 0.926 temps = 16.984375 time = 9.87440013885498 sur train = 1.0 pour 10 couches\n",
      "precision = 0.9286666666666666 temps = 26.84375 time = 16.515713691711426 sur train = 0.9977142857142857 pour 20 couches\n",
      "precision = 0.6653333333333333 temps = 36.65625 time = 19.896430015563965 sur train = 0.7065714285714285 pour 50 couches\n",
      "precision = 0.11533333333333333 temps = 34.578125 time = 17.994463205337524 sur train = 0.11257142857142857 pour 70 couches\n",
      "precision = 0.12 temps = 53.265625 time = 27.43538498878479 sur train = 0.11 pour 100 couches\n"
     ]
    }
   ],
   "source": [
    "precisions_couches = []\n",
    "temps_couches = []\n",
    "tt_couches = []\n",
    "rappel_couches = []\n",
    "erreur_couches = []\n",
    "train_precisions_couches = []\n",
    "for nb_c in [2,10,20,50,70,100]:\n",
    "    hls = tuple(50 for i in range(nb_c))\n",
    "    mlp = nn.MLPClassifier(hidden_layer_sizes=hls)\n",
    "    st = time.time()\n",
    "    start_time = time.process_time()\n",
    "    mlp.fit(datatrain,targettrain)\n",
    "    elapsed = time.process_time()-start_time\n",
    "    duration = time.time()-st\n",
    "    prec = mlp.score(datatest,targettest)\n",
    "    testpred = mlp.predict(datatest)\n",
    "    precisions_couches.append(prec)\n",
    "    temps_couches.append(elapsed)\n",
    "    tt_couches.append(duration)\n",
    "    rap = recall_score(targettest,testpred,average='micro')\n",
    "    err = zero_one_loss(targettest,testpred)\n",
    "    rappel_couches.append(rap)\n",
    "    erreur_couches.append(err)\n",
    "    prec_train = mlp.score(datatrain,targettrain)\n",
    "    train_precisions_couches.append(prec_train)\n",
    "    print(\"precision =\", prec, \"temps =\", elapsed,\"time =\",duration,\"sur train =\",prec_train, \"pour\", nb_c,\"couches\")"
   ]
  },
  {
   "cell_type": "code",
   "execution_count": null,
   "metadata": {},
   "outputs": [],
   "source": [
    "fig, ax1 = plt.subplots()\n",
    "\n",
    "color = 'tab:blue'\n",
    "ax1.set_xlabel('number of layers')\n",
    "ax1.set_ylabel('precision', color=color)\n",
    "ax1.plot([2,10,20,50,70,100],precisions_couches,'+-',color=color)\n",
    "ax1.tick_params(axis='y', labelcolor=color)\n",
    "\n",
    "ax2 = ax1.twinx()\n",
    "\n",
    "color = 'tab:red'\n",
    "ax2.set_ylabel('execution time', color=color)\n",
    "ax2.plot([2,10,20,50,70,100],temps_couches,'r+-',color=color)\n",
    "ax2.tick_params(axis='y', labelcolor=color)\n",
    "\n",
    "fig.tight_layout()\n",
    "plt.show()"
   ]
  },
  {
   "cell_type": "code",
   "execution_count": null,
   "metadata": {},
   "outputs": [],
   "source": [
    "fig, ax1 = plt.subplots()\n",
    "\n",
    "color = 'tab:blue'\n",
    "ax1.set_xlabel('number of layers')\n",
    "ax1.set_ylabel('precision', color=color)\n",
    "ax1.plot([2,10,20,50,70,100],precisions_couches,'+-',color=color)\n",
    "ax1.tick_params(axis='y', labelcolor=color)\n",
    "\n",
    "ax2 = ax1.twinx()\n",
    "\n",
    "color = 'tab:red'\n",
    "ax2.set_ylabel('execution time', color=color)\n",
    "ax2.plot([2,10,20,50,70,100],tt_couches,'r+-',color=color)\n",
    "ax2.tick_params(axis='y', labelcolor=color)\n",
    "\n",
    "fig.tight_layout()\n",
    "plt.show()"
   ]
  },
  {
   "cell_type": "code",
   "execution_count": null,
   "metadata": {},
   "outputs": [],
   "source": [
    "fig, ax1 = plt.subplots()\n",
    "\n",
    "color = 'tab:blue'\n",
    "ax1.set_xlabel('number of layers')\n",
    "ax1.set_ylabel('precision', color=color)\n",
    "ax1.plot([2,10,20,50,70,100],precisions_couches,'+-',color=color)\n",
    "ax1.tick_params(axis='y', labelcolor=color)\n",
    "\n",
    "ax2 = ax1.twinx()\n",
    "\n",
    "color = 'tab:red'\n",
    "ax2.set_ylabel('rappel', color=color)\n",
    "ax2.plot([2,10,20,50,70,100],rappel_couches,'r+-',color=color)\n",
    "ax2.tick_params(axis='y', labelcolor=color)\n",
    "\n",
    "fig.tight_layout()\n",
    "plt.show()"
   ]
  },
  {
   "cell_type": "code",
   "execution_count": null,
   "metadata": {},
   "outputs": [],
   "source": [
    "fig, ax1 = plt.subplots()\n",
    "\n",
    "color = 'tab:blue'\n",
    "ax1.set_xlabel('number of layers')\n",
    "ax1.set_ylabel('precision test', color=color)\n",
    "ax1.plot([2,10,20,50,70,100],precisions_couches,'+-',color=color)\n",
    "ax1.tick_params(axis='y', labelcolor=color)\n",
    "\n",
    "ax2 = ax1.twinx()\n",
    "\n",
    "color = 'tab:red'\n",
    "ax2.set_ylabel('precision train', color=color)\n",
    "ax2.plot([2,10,20,50,70,100],train_precisions_couches,'r+-',color=color)\n",
    "ax2.tick_params(axis='y', labelcolor=color)\n",
    "\n",
    "fig.tight_layout()\n",
    "plt.show()"
   ]
  },
  {
   "cell_type": "code",
   "execution_count": null,
   "metadata": {},
   "outputs": [],
   "source": [
    "plt.plot([2,10,20,50,70,100],erreur_couches,'+-')\n",
    "plt.ylabel('error')\n",
    "plt.xlabel('number of layers')\n",
    "plt.show()"
   ]
  },
  {
   "cell_type": "code",
   "execution_count": null,
   "metadata": {},
   "outputs": [],
   "source": [
    "plt.plot([2,10,20,50,70,100],temps_couches,'+-')\n",
    "plt.ylabel('training time')\n",
    "plt.xlabel('number of layers')\n",
    "plt.show()"
   ]
  },
  {
   "cell_type": "code",
   "execution_count": null,
   "metadata": {},
   "outputs": [],
   "source": [
    "plt.plot([2,10,20,50,70,100],tt_couches,'+-')\n",
    "plt.ylabel('training time')\n",
    "plt.xlabel('number of layers')\n",
    "plt.show()"
   ]
  },
  {
   "cell_type": "code",
   "execution_count": 11,
   "metadata": {},
   "outputs": [
    {
     "name": "stdout",
     "output_type": "stream",
     "text": [
      "precision = 0.8326190476190476 temps = 277.15625 sur train = 0.8515918367346939 pour 5 neurones\n",
      "precision = 0.9232380952380952 temps = 250.140625 sur train = 0.9567142857142857 pour 10 neurones\n",
      "precision = 0.9486666666666667 temps = 276.984375 sur train = 0.987734693877551 pour 20 neurones\n",
      "precision = 0.9618095238095238 temps = 219.625 sur train = 0.9961836734693877 pour 30 neurones\n",
      "precision = 0.963952380952381 temps = 289.375 sur train = 0.9947551020408163 pour 40 neurones\n",
      "precision = 0.969 temps = 349.4375 sur train = 0.9973877551020408 pour 50 neurones\n",
      "precision = 0.9712857142857143 temps = 321.046875 sur train = 0.9972448979591837 pour 60 neurones\n",
      "precision = 0.9689523809523809 temps = 298.15625 sur train = 0.994 pour 70 neurones\n",
      "precision = 0.9755714285714285 temps = 281.21875 sur train = 0.9979795918367347 pour 80 neurones\n",
      "precision = 0.9758571428571429 temps = 426.359375 sur train = 0.9977551020408163 pour 90 neurones\n",
      "precision = 0.9750952380952381 temps = 309.5 sur train = 0.998 pour 100 neurones\n",
      "precision = 0.9765238095238096 temps = 664.6875 sur train = 0.998265306122449 pour 150 neurones\n",
      "precision = 0.9769047619047619 temps = 946.40625 sur train = 0.9972244897959184 pour 200 neurones\n",
      "precision = 0.9761904761904762 temps = 1371.09375 sur train = 0.9953877551020408 pour 300 neurones\n"
     ]
    }
   ],
   "source": [
    "precisions_neurones = []\n",
    "temps_neurones = []\n",
    "tt_neurones = []\n",
    "rappel_neurones = []\n",
    "erreur_neurones = []\n",
    "for nb_n in [5,10,20,30,40,50,60,70,80,90,100,150,200,300]:\n",
    "    hls = tuple(nb_n for i in range(10))\n",
    "    mlp = nn.MLPClassifier(hidden_layer_sizes=hls)\n",
    "    st = time.time()\n",
    "    start_time = time.process_time()\n",
    "    mlp.fit(datatrain,targettrain)\n",
    "    elapsed = time.process_time()-start_time\n",
    "    duration = time.time() - st\n",
    "    prec = mlp.score(datatest,targettest)\n",
    "    precisions_neurones.append(prec)\n",
    "    temps_neurones.append(elapsed)\n",
    "    tt_neurones.append(duration)\n",
    "    rap = recall_score(targettest,testpred,average='micro')\n",
    "    err = zero_one_loss(targettest,testpred)\n",
    "    rappel_neurones.append(rap)\n",
    "    erreur_neurones.append(err)\n",
    "    prec_train = mlp.score(datatrain,targettrain)\n",
    "    print(\"precision =\", prec, \"temps =\", elapsed,\"sur train =\",prec_train, \"pour\", nb_n,\"neurones\")"
   ]
  },
  {
   "cell_type": "code",
   "execution_count": null,
   "metadata": {},
   "outputs": [],
   "source": [
    "fig, ax1 = plt.subplots()\n",
    "\n",
    "color = 'tab:blue'\n",
    "ax1.set_xlabel('number of neurons')\n",
    "ax1.set_ylabel('precision', color=color)\n",
    "ax1.plot([5,10,20,30,40,50,60,70,80,90,100,150,200,300],precisions_neurones,'+-',color=color)\n",
    "ax1.tick_params(axis='y', labelcolor=color)\n",
    "\n",
    "ax2 = ax1.twinx()\n",
    "\n",
    "color = 'tab:red'\n",
    "ax2.set_ylabel('rappel', color=color)\n",
    "ax2.plot([5,10,20,30,40,50,60,70,80,90,100,150,200,300],rappel_neurones,'r+-',color=color)\n",
    "ax2.tick_params(axis='y', labelcolor=color)\n",
    "\n",
    "fig.tight_layout()\n",
    "plt.show()"
   ]
  },
  {
   "cell_type": "code",
   "execution_count": null,
   "metadata": {},
   "outputs": [],
   "source": [
    "plt.plot([5,10,20,30,40,50,60,70,80,90,100,150,200,300],temps_neurones,'+-')\n",
    "plt.ylabel('training time')\n",
    "plt.xlabel('number of neurons')\n",
    "plt.show()"
   ]
  },
  {
   "cell_type": "code",
   "execution_count": null,
   "metadata": {},
   "outputs": [],
   "source": [
    "plt.plot([5,10,20,30,40,50,60,70,80,90,100,150,200,300],tt_neurones,'+-')\n",
    "plt.ylabel('training time')\n",
    "plt.xlabel('number of neurons')\n",
    "plt.show()"
   ]
  },
  {
   "cell_type": "code",
   "execution_count": null,
   "metadata": {},
   "outputs": [],
   "source": [
    "plt.plot([5,10,20,30,40,50,60,70,80,90,100,150,200,300],erreur_neurones,'+-')\n",
    "plt.ylabel('error')\n",
    "plt.xlabel('number of neurons')\n",
    "plt.show()"
   ]
  },
  {
   "cell_type": "code",
   "execution_count": 12,
   "metadata": {},
   "outputs": [
    {
     "name": "stdout",
     "output_type": "stream",
     "text": [
      "10 couches: precision = 0.930047619047619 temps = 434.75\n",
      "0.9764081632653061\n"
     ]
    }
   ],
   "source": [
    "tpl4 = tuple(i for i in range(10,60,5))\n",
    "mlp = nn.MLPClassifier(hidden_layer_sizes=tpl4)\n",
    "start_time = time.process_time()\n",
    "mlp.fit(datatrain,targettrain)\n",
    "elapsed = time.process_time() - start_time\n",
    "prec = mlp.score(datatest,targettest)\n",
    "print(\"10 couches: precision =\",prec,\"temps =\",elapsed)\n",
    "prec_train = mlp.score(datatrain,targettrain)\n",
    "print(prec_train)"
   ]
  },
  {
   "cell_type": "code",
   "execution_count": 13,
   "metadata": {},
   "outputs": [
    {
     "name": "stdout",
     "output_type": "stream",
     "text": [
      "50 couches: precision = 0.11095238095238096 temps = 136.53125\n",
      "0.11320408163265307\n"
     ]
    }
   ],
   "source": [
    "tpl1 = tuple(60-i for i in range(50))\n",
    "mlp = nn.MLPClassifier(hidden_layer_sizes=tpl1)\n",
    "start_time = time.process_time()\n",
    "mlp.fit(datatrain,targettrain)\n",
    "elapsed = time.process_time() - start_time\n",
    "prec = mlp.score(datatest,targettest)\n",
    "print(\"50 couches: precision =\",prec,\"temps =\",elapsed)\n",
    "prec_train = mlp.score(datatrain,targettrain)\n",
    "print(prec_train)"
   ]
  },
  {
   "cell_type": "code",
   "execution_count": 14,
   "metadata": {},
   "outputs": [
    {
     "name": "stdout",
     "output_type": "stream",
     "text": [
      "20 couches: precision = 0.97 temps = 348.5625\n",
      "0.9894693877551021\n"
     ]
    }
   ],
   "source": [
    "pas = int(-49/20)\n",
    "tpl2 = tuple(i for i in range(60,10,pas))\n",
    "mlp = nn.MLPClassifier(hidden_layer_sizes=tpl2)\n",
    "start_time = time.process_time()\n",
    "mlp.fit(datatrain,targettrain)\n",
    "elapsed = time.process_time() - start_time\n",
    "prec = mlp.score(datatest,targettest)\n",
    "print(\"20 couches: precision =\",prec,\"temps =\",elapsed)\n",
    "prec_train = mlp.score(datatrain,targettrain)\n",
    "print(prec_train)"
   ]
  },
  {
   "cell_type": "code",
   "execution_count": 15,
   "metadata": {},
   "outputs": [
    {
     "name": "stdout",
     "output_type": "stream",
     "text": [
      "[[2019    0    6    3    2    2    7    0   13    2]\n",
      " [   0 2309    6    3    2    0    2    2    6    0]\n",
      " [   1   10 2070   13    6    1    2   12   23    3]\n",
      " [   0    4   20 2016    0   17    0    9   33    7]\n",
      " [   1    3    3    0 2037    1   10    1    3   29]\n",
      " [   2    5    4   45    1 1778   15    1   27    4]\n",
      " [   5    6    2    2   17    5 2069    0    8    0]\n",
      " [   0   13   14    8   11    0    0 2139    4   14]\n",
      " [   1   18   11   12    5   11    6    3 1970    8]\n",
      " [   4    5    1    2   19    4    1   18   20 1963]]\n"
     ]
    }
   ],
   "source": [
    "cm = confusion_matrix(targettest,mlp.predict(datatest))\n",
    "print(cm)"
   ]
  },
  {
   "cell_type": "code",
   "execution_count": 16,
   "metadata": {},
   "outputs": [
    {
     "name": "stdout",
     "output_type": "stream",
     "text": [
      "20 couches: precision = 0.8826190476190476 temps = 43.328125\n",
      "0.9062448979591837\n"
     ]
    }
   ],
   "source": [
    "tpl3 = tuple(i for i in range(60,13,3))\n",
    "mlp = nn.MLPClassifier(hidden_layer_sizes=tpl3)\n",
    "start_time = time.process_time()\n",
    "mlp.fit(datatrain,targettrain)\n",
    "elapsed = time.process_time() - start_time\n",
    "prec = mlp.score(datatest,targettest)\n",
    "print(\"20 couches: precision =\",prec,\"temps =\",elapsed)\n",
    "prec_train = mlp.score(datatrain,targettrain)\n",
    "print(prec_train)"
   ]
  },
  {
   "cell_type": "code",
   "execution_count": 19,
   "metadata": {},
   "outputs": [],
   "source": [
    "nb_couches = 10\n",
    "archi = tuple(50 for i in range(nb_couches))"
   ]
  },
  {
   "cell_type": "code",
   "execution_count": 20,
   "metadata": {},
   "outputs": [
    {
     "name": "stdout",
     "output_type": "stream",
     "text": [
      "precision = 0.9615238095238096 rappel = 0.9615238095238096 erreur = 0.03847619047619044 temps = 445.21875 pour lbfgs\n",
      "precision = 0.9580952380952381 rappel = 0.9580952380952381 erreur = 0.04190476190476189 temps = 325.015625 pour sgd\n",
      "precision = 0.9673333333333334 rappel = 0.9673333333333334 erreur = 0.03266666666666662 temps = 281.375 pour adam\n"
     ]
    }
   ],
   "source": [
    "precisions_algos = []\n",
    "rappel_algos = []\n",
    "temps_algos = []\n",
    "tt_algos = []\n",
    "erreur_algos = []\n",
    "for s in [\"lbfgs\",\"sgd\",\"adam\"]:\n",
    "    mlp = nn.MLPClassifier(hidden_layer_sizes=archi,solver=s)\n",
    "    st = time.time()\n",
    "    start_time = time.process_time()\n",
    "    mlp.fit(datatrain,targettrain)\n",
    "    elapsed = time.process_time()-start_time\n",
    "    duration = time.time()-st\n",
    "    testpred = mlp.predict(datatest)\n",
    "    prec = mlp.score(datatest,targettest)\n",
    "    rap = recall_score(targettest,testpred,average='micro')\n",
    "    err = zero_one_loss(targettest,testpred)\n",
    "    precisions_algos.append(prec)\n",
    "    rappel_algos.append(rap)\n",
    "    temps_algos.append(elapsed)\n",
    "    tt_algos.append(duration)\n",
    "    erreur_algos.append(err)\n",
    "    print(\"precision =\", prec,\"rappel =\",rap,\"erreur =\",err,\"temps =\",elapsed,\"pour\",s)"
   ]
  },
  {
   "cell_type": "code",
   "execution_count": null,
   "metadata": {},
   "outputs": [],
   "source": [
    "fig, ax1 = plt.subplots()\n",
    "\n",
    "color = 'tab:blue'\n",
    "ax1.set_xlabel('algorithm')\n",
    "ax1.set_ylabel('precision', color=color)\n",
    "ax1.plot([\"lbfgs\",\"sgd\",\"adam\"],precisions_algos,'+-',color=color)\n",
    "ax1.tick_params(axis='y', labelcolor=color)\n",
    "\n",
    "ax2 = ax1.twinx()\n",
    "\n",
    "color = 'tab:red'\n",
    "ax2.set_ylabel('rappel', color=color)\n",
    "ax2.plot([\"lbfgs\",\"sgd\",\"adam\"],rappel_algos,'r+-',color=color)\n",
    "ax2.tick_params(axis='y', labelcolor=color)\n",
    "\n",
    "fig.tight_layout()\n",
    "plt.show()"
   ]
  },
  {
   "cell_type": "code",
   "execution_count": null,
   "metadata": {},
   "outputs": [],
   "source": [
    "plt.plot([\"lbfgs\",\"sgd\",\"adam\"],temps_algos,'+-')\n",
    "plt.ylabel('training time')\n",
    "plt.xlabel('algorithm')\n",
    "plt.show()"
   ]
  },
  {
   "cell_type": "code",
   "execution_count": null,
   "metadata": {},
   "outputs": [],
   "source": [
    "plt.plot([\"lbfgs\",\"sgd\",\"adam\"],tt_algos,'+-')\n",
    "plt.ylabel('training time')\n",
    "plt.xlabel('algorithm')\n",
    "plt.show()"
   ]
  },
  {
   "cell_type": "code",
   "execution_count": null,
   "metadata": {},
   "outputs": [],
   "source": [
    "plt.plot([\"lbfgs\",\"sgd\",\"adam\"],erreur_algos,'+-')\n",
    "plt.ylabel('error')\n",
    "plt.xlabel('algorithm')\n",
    "plt.show()"
   ]
  },
  {
   "cell_type": "code",
   "execution_count": 21,
   "metadata": {},
   "outputs": [
    {
     "name": "stdout",
     "output_type": "stream",
     "text": [
      "precision = 0.910047619047619 rappel = 0.910047619047619 erreur = 0.089952380952381 temps = 431.828125 pour identity\n",
      "precision = 0.11095238095238096 rappel = 0.11095238095238096 erreur = 0.8890476190476191 temps = 116.296875 pour logistic\n",
      "precision = 0.9337619047619048 rappel = 0.9337619047619048 erreur = 0.06623809523809521 temps = 288.28125 pour tanh\n",
      "precision = 0.9673333333333334 rappel = 0.9673333333333334 erreur = 0.03266666666666662 temps = 251.53125 pour relu\n"
     ]
    }
   ],
   "source": [
    "precisions_activ = []\n",
    "rappel_activ = []\n",
    "temps_activ = []\n",
    "tt_activ = []\n",
    "erreur_activ = []\n",
    "for a in [\"identity\", \"logistic\", \"tanh\", \"relu\"]:\n",
    "    mlp = nn.MLPClassifier(hidden_layer_sizes=archi,activation=a)\n",
    "    st = time.time()\n",
    "    start_time = time.process_time()\n",
    "    mlp.fit(datatrain,targettrain)\n",
    "    elapsed = time.process_time()-start_time\n",
    "    duration = time.time()-st\n",
    "    testpred = mlp.predict(datatest)\n",
    "    prec = mlp.score(datatest,targettest)\n",
    "    rap = recall_score(targettest,testpred,average='micro')\n",
    "    err = zero_one_loss(targettest,testpred)\n",
    "    precisions_activ.append(prec)\n",
    "    rappel_activ.append(rap)\n",
    "    temps_activ.append(elapsed)\n",
    "    tt_activ.append(duration)\n",
    "    erreur_activ.append(err)\n",
    "    print(\"precision =\", prec,\"rappel =\",rap,\"erreur =\",err,\"temps =\",elapsed,\"pour\",a)"
   ]
  },
  {
   "cell_type": "code",
   "execution_count": 1,
   "metadata": {},
   "outputs": [
    {
     "ename": "NameError",
     "evalue": "name 'plt' is not defined",
     "output_type": "error",
     "traceback": [
      "\u001b[1;31m---------------------------------------------------------------------------\u001b[0m",
      "\u001b[1;31mNameError\u001b[0m                                 Traceback (most recent call last)",
      "\u001b[1;32m<ipython-input-1-e2622836ceee>\u001b[0m in \u001b[0;36m<module>\u001b[1;34m\u001b[0m\n\u001b[1;32m----> 1\u001b[1;33m \u001b[0mfig\u001b[0m\u001b[1;33m,\u001b[0m \u001b[0max1\u001b[0m \u001b[1;33m=\u001b[0m \u001b[0mplt\u001b[0m\u001b[1;33m.\u001b[0m\u001b[0msubplots\u001b[0m\u001b[1;33m(\u001b[0m\u001b[1;33m)\u001b[0m\u001b[1;33m\u001b[0m\u001b[1;33m\u001b[0m\u001b[0m\n\u001b[0m\u001b[0;32m      2\u001b[0m \u001b[1;33m\u001b[0m\u001b[0m\n\u001b[0;32m      3\u001b[0m \u001b[0mcolor\u001b[0m \u001b[1;33m=\u001b[0m \u001b[1;34m'tab:blue'\u001b[0m\u001b[1;33m\u001b[0m\u001b[1;33m\u001b[0m\u001b[0m\n\u001b[0;32m      4\u001b[0m \u001b[0max1\u001b[0m\u001b[1;33m.\u001b[0m\u001b[0mset_xlabel\u001b[0m\u001b[1;33m(\u001b[0m\u001b[1;34m'size'\u001b[0m\u001b[1;33m)\u001b[0m\u001b[1;33m\u001b[0m\u001b[1;33m\u001b[0m\u001b[0m\n\u001b[0;32m      5\u001b[0m \u001b[0max1\u001b[0m\u001b[1;33m.\u001b[0m\u001b[0mset_ylabel\u001b[0m\u001b[1;33m(\u001b[0m\u001b[1;34m'score'\u001b[0m\u001b[1;33m,\u001b[0m \u001b[0mcolor\u001b[0m\u001b[1;33m=\u001b[0m\u001b[0mcolor\u001b[0m\u001b[1;33m)\u001b[0m\u001b[1;33m\u001b[0m\u001b[1;33m\u001b[0m\u001b[0m\n",
      "\u001b[1;31mNameError\u001b[0m: name 'plt' is not defined"
     ]
    }
   ],
   "source": [
    "fig, ax1 = plt.subplots()\n",
    "\n",
    "color = 'tab:blue'\n",
    "ax1.set_xlabel('activation function')\n",
    "ax1.set_ylabel('precision', color=color)\n",
    "ax1.plot([\"identity\", \"logistic\", \"tanh\", \"relu\"],precisions_activ,'+-',color=color)\n",
    "ax1.tick_params(axis='y', labelcolor=color)\n",
    "\n",
    "ax2 = ax1.twinx()\n",
    "\n",
    "color = 'tab:red'\n",
    "ax2.set_ylabel('training time', color=color)\n",
    "ax2.plot([\"identity\", \"logistic\", \"tanh\", \"relu\"],temps_activ,'r+-',color=color)\n",
    "ax2.tick_params(axis='y', labelcolor=color)\n",
    "\n",
    "fig.tight_layout()\n",
    "plt.show()"
   ]
  },
  {
   "cell_type": "code",
   "execution_count": null,
   "metadata": {},
   "outputs": [],
   "source": [
    "fig, ax1 = plt.subplots()\n",
    "\n",
    "color = 'tab:blue'\n",
    "ax1.set_xlabel('activation function')\n",
    "ax1.set_ylabel('precision', color=color)\n",
    "ax1.plot([\"identity\", \"logistic\", \"tanh\", \"relu\"],precisions_activ,'+-',color=color)\n",
    "ax1.tick_params(axis='y', labelcolor=color)\n",
    "\n",
    "ax2 = ax1.twinx()\n",
    "\n",
    "color = 'tab:red'\n",
    "ax2.set_ylabel('training time', color=color)\n",
    "ax2.plot([\"identity\", \"logistic\", \"tanh\", \"relu\"],tt_activ,'r+-',color=color)\n",
    "ax2.tick_params(axis='y', labelcolor=color)\n",
    "\n",
    "fig.tight_layout()\n",
    "plt.show()"
   ]
  },
  {
   "cell_type": "code",
   "execution_count": null,
   "metadata": {},
   "outputs": [],
   "source": [
    "fig, ax1 = plt.subplots()\n",
    "\n",
    "color = 'tab:blue'\n",
    "ax1.set_xlabel('activation function')\n",
    "ax1.set_ylabel('precision', color=color)\n",
    "ax1.plot([\"identity\", \"logistic\", \"tanh\", \"relu\"],precisions_activ,'+-',color=color)\n",
    "ax1.tick_params(axis='y', labelcolor=color)\n",
    "\n",
    "ax2 = ax1.twinx()\n",
    "\n",
    "color = 'tab:red'\n",
    "ax2.set_ylabel('rappel', color=color)\n",
    "ax2.plot([\"identity\", \"logistic\", \"tanh\", \"relu\"],rappel_activ,'r+-',color=color)\n",
    "ax2.tick_params(axis='y', labelcolor=color)\n",
    "\n",
    "fig.tight_layout()\n",
    "plt.show()"
   ]
  },
  {
   "cell_type": "code",
   "execution_count": null,
   "metadata": {},
   "outputs": [],
   "source": [
    "plt.plot([\"identity\", \"logistic\", \"tanh\", \"relu\"],temps_activ,'+-')\n",
    "plt.ylabel('training time')\n",
    "plt.xlabel('activation function')\n",
    "plt.show()"
   ]
  },
  {
   "cell_type": "code",
   "execution_count": null,
   "metadata": {},
   "outputs": [],
   "source": [
    "plt.plot([\"identity\", \"logistic\", \"tanh\", \"relu\"],tt_activ,'+-')\n",
    "plt.ylabel('training time')\n",
    "plt.xlabel('activation function')\n",
    "plt.show()"
   ]
  },
  {
   "cell_type": "code",
   "execution_count": null,
   "metadata": {},
   "outputs": [],
   "source": [
    "plt.plot([\"identity\", \"logistic\", \"tanh\", \"relu\"],erreur_activ,'+-')\n",
    "plt.ylabel('error')\n",
    "plt.xlabel('activation function')\n",
    "plt.show()"
   ]
  },
  {
   "cell_type": "code",
   "execution_count": null,
   "metadata": {},
   "outputs": [
    {
     "name": "stdout",
     "output_type": "stream",
     "text": [
      "precision = 0.9705238095238096 rappel = 0.9705238095238096 erreur = 0.029476190476190434 temps = 338.734375 pour 0.1\n",
      "precision = 0.9665714285714285 rappel = 0.9665714285714285 erreur = 0.033428571428571474 temps = 325.96875 pour 0.01\n"
     ]
    },
    {
     "name": "stderr",
     "output_type": "stream",
     "text": [
      "C:\\Users\\linam\\Anaconda3\\lib\\site-packages\\sklearn\\neural_network\\multilayer_perceptron.py:564: UserWarning: Training interrupted by user.\n",
      "  warnings.warn(\"Training interrupted by user.\")\n"
     ]
    },
    {
     "name": "stdout",
     "output_type": "stream",
     "text": [
      "precision = 0.9642380952380952 rappel = 0.9642380952380952 erreur = 0.03576190476190477 temps = 66.0 pour 0.001\n"
     ]
    }
   ],
   "source": [
    "precisions_regul = []\n",
    "rappel_regul = []\n",
    "temps_regul = []\n",
    "tt_regul = []\n",
    "erreur_regul = []\n",
    "for a in [1e-1, 1e-2, 1e-3, 1e-4, 1e-5, 1e-6, 1e-7, 1e-8]:\n",
    "    mlp = nn.MLPClassifier(hidden_layer_sizes=archi,alpha=a)\n",
    "    st = time.time()\n",
    "    start_time = time.process_time()\n",
    "    mlp.fit(datatrain,targettrain)\n",
    "    elapsed = time.process_time()-start_time\n",
    "    duration = time.time()-st\n",
    "    testpred = mlp.predict(datatest)\n",
    "    prec = mlp.score(datatest,targettest)\n",
    "    rap = recall_score(targettest,testpred,average='micro')\n",
    "    err = zero_one_loss(targettest,testpred)\n",
    "    precisions_regul.append(prec)\n",
    "    rappel_regul.append(rap)\n",
    "    temps_regul.append(elapsed)\n",
    "    tt_regul.append(duration)\n",
    "    erreur_regul.append(err)\n",
    "    print(\"precision =\", prec,\"rappel =\",rap,\"erreur =\",err,\"temps =\",elapsed,\"pour\",a)"
   ]
  },
  {
   "cell_type": "code",
   "execution_count": null,
   "metadata": {},
   "outputs": [],
   "source": [
    "fig, ax1 = plt.subplots()\n",
    "\n",
    "color = 'tab:blue'\n",
    "ax1.set_xlabel('regularization')\n",
    "ax1.set_xscale(\"log\")\n",
    "ax1.set_ylabel('precision', color=color)\n",
    "ax1.plot([1e-1, 1e-2, 1e-3, 1e-4, 1e-5, 1e-6, 1e-7, 1e-8],precisions_regul,'+-',color=color)\n",
    "ax1.tick_params(axis='y', labelcolor=color)\n",
    "\n",
    "ax2 = ax1.twinx()\n",
    "\n",
    "color = 'tab:red'\n",
    "ax2.set_ylabel('execution time', color=color)\n",
    "ax2.plot([1e-1, 1e-2, 1e-3, 1e-4, 1e-5, 1e-6, 1e-7, 1e-8],temps_regul,'r+-',color=color)\n",
    "ax2.tick_params(axis='y', labelcolor=color)\n",
    "\n",
    "fig.tight_layout()\n",
    "plt.show()"
   ]
  },
  {
   "cell_type": "code",
   "execution_count": null,
   "metadata": {},
   "outputs": [],
   "source": [
    "fig, ax1 = plt.subplots()\n",
    "\n",
    "color = 'tab:blue'\n",
    "ax1.set_xlabel('regularization')\n",
    "ax1.set_xscale(\"log\")\n",
    "ax1.set_ylabel('precision', color=color)\n",
    "ax1.plot([1e-1, 1e-2, 1e-3, 1e-4, 1e-5, 1e-6, 1e-7, 1e-8],precisions_regul,'+-',color=color)\n",
    "ax1.tick_params(axis='y', labelcolor=color)\n",
    "\n",
    "ax2 = ax1.twinx()\n",
    "\n",
    "color = 'tab:red'\n",
    "ax2.set_ylabel('execution time', color=color)\n",
    "ax2.plot([1e-1, 1e-2, 1e-3, 1e-4, 1e-5, 1e-6, 1e-7, 1e-8],tt_regul,'r+-',color=color)\n",
    "ax2.tick_params(axis='y', labelcolor=color)\n",
    "\n",
    "fig.tight_layout()s\n",
    "plt.show()"
   ]
  },
  {
   "cell_type": "code",
   "execution_count": null,
   "metadata": {},
   "outputs": [],
   "source": [
    "fig, ax1 = plt.subplots()\n",
    "\n",
    "color = 'tab:blue'\n",
    "ax1.set_xlabel('regularization')\n",
    "ax1.set_xscale(\"log\")\n",
    "ax1.set_ylabel('precision', color=color)\n",
    "ax1.plot([1e-1, 1e-2, 1e-3, 1e-4, 1e-5, 1e-6, 1e-7, 1e-8],precisions_regul,'+-',color=color)\n",
    "ax1.tick_params(axis='y', labelcolor=color)\n",
    "\n",
    "ax2 = ax1.twinx()\n",
    "\n",
    "color = 'tab:red'\n",
    "ax2.set_ylabel('rappel', color=color)\n",
    "ax2.plot([1e-1, 1e-2, 1e-3, 1e-4, 1e-5, 1e-6, 1e-7, 1e-8],rappel_regul,'r+-',color=color)\n",
    "ax2.tick_params(axis='y', labelcolor=color)\n",
    "\n",
    "fig.tight_layout()\n",
    "plt.show()"
   ]
  },
  {
   "cell_type": "code",
   "execution_count": null,
   "metadata": {},
   "outputs": [],
   "source": [
    "plt.plot([1e-1, 1e-2, 1e-3, 1e-4, 1e-5, 1e-6, 1e-7, 1e-8],temps_regul,'+-')\n",
    "plt.ylabel('training time')\n",
    "plt.xlabel('regularization')\n",
    "plt.xscale('log')\n",
    "plt.show()"
   ]
  },
  {
   "cell_type": "code",
   "execution_count": null,
   "metadata": {},
   "outputs": [],
   "source": [
    "plt.plot([1e-1, 1e-2, 1e-3, 1e-4, 1e-5, 1e-6, 1e-7, 1e-8],tt_regul,'+-')\n",
    "plt.ylabel('training time')\n",
    "plt.xlabel('regularization')\n",
    "plt.xscale('log')\n",
    "plt.show()"
   ]
  },
  {
   "cell_type": "code",
   "execution_count": null,
   "metadata": {},
   "outputs": [],
   "source": [
    "plt.plot([1e-1, 1e-2, 1e-3, 1e-4, 1e-5, 1e-6, 1e-7, 1e-8],erreur_regul,'+-')\n",
    "plt.ylabel('error')\n",
    "plt.xlabel('regularization')\n",
    "plt.xscale('log')\n",
    "plt.show()"
   ]
  }
 ],
 "metadata": {
  "kernelspec": {
   "display_name": "Python 3",
   "language": "python",
   "name": "python3"
  },
  "language_info": {
   "codemirror_mode": {
    "name": "ipython",
    "version": 3
   },
   "file_extension": ".py",
   "mimetype": "text/x-python",
   "name": "python",
   "nbconvert_exporter": "python",
   "pygments_lexer": "ipython3",
   "version": "3.7.3"
  }
 },
 "nbformat": 4,
 "nbformat_minor": 2
}
