{
 "cells": [
  {
   "cell_type": "code",
   "execution_count": 1,
   "metadata": {},
   "outputs": [],
   "source": [
    "from sklearn.datasets import fetch_openml\n",
    "from sklearn.model_selection import train_test_split\n",
    "from sklearn.model_selection import KFold\n",
    "import sklearn.neighbors as neighbors\n",
    "import numpy as np\n",
    "import matplotlib.pyplot as plt\n",
    "import time"
   ]
  },
  {
   "cell_type": "code",
   "execution_count": 2,
   "metadata": {},
   "outputs": [],
   "source": [
    "mnist = fetch_openml('mnist_784')"
   ]
  },
  {
   "cell_type": "code",
   "execution_count": 3,
   "metadata": {},
   "outputs": [
    {
     "name": "stderr",
     "output_type": "stream",
     "text": [
      "C:\\Users\\linam\\Anaconda3\\lib\\site-packages\\sklearn\\model_selection\\_split.py:2179: FutureWarning: From version 0.21, test_size will always complement train_size unless both are specified.\n",
      "  FutureWarning)\n"
     ]
    },
    {
     "name": "stdout",
     "output_type": "stream",
     "text": [
      "temps apprentissage:  0.1874551773071289\n",
      "classe de l'image 4:  4\n",
      "classe prédite de l'image 4:  4\n",
      "score obtenu sur le test:  0.919\n"
     ]
    },
    {
     "data": {
      "text/plain": [
       "0.06574999999999998"
      ]
     },
     "execution_count": 3,
     "metadata": {},
     "output_type": "execute_result"
    }
   ],
   "source": [
    "#tableau de 5000 valeurs aléatoires entre à et 70000\n",
    "index = np.random.randint(70000, size=5000)\n",
    "#échantillon de 5000 données de Mnist\n",
    "data = mnist.data[index]\n",
    "#étiquettes correspondant aux 5000 données échantillons\n",
    "target = mnist.target[index]\n",
    "#division de la base en données d'apprentissage (80%) et de test (20%)\n",
    "datatrain, datatest, targettrain, targettest = train_test_split(data, target,train_size=0.80)\n",
    "#définition du nombre de voisins\n",
    "k = 10\n",
    "#création de l'objet classifier à k voisins\n",
    "clf = neighbors.KNeighborsClassifier(k)\n",
    "st = time.time()\n",
    "#apprentissage avec les données\n",
    "clf.fit(datatrain,targettrain)\n",
    "print(\"temps apprentissage: \",time.time()-st)\n",
    "#classe de l'image 4\n",
    "print(\"classe de l'image 4: \",targettest[3])\n",
    "#classe prédite de l'image 4\n",
    "print(\"classe prédite de l'image 4: \", clf.predict(datatest)[3])\n",
    "#score sur l'échantillon de test\n",
    "print(\"score obtenu sur le test: \",clf.score(datatest,targettest))\n",
    "#taux d'erreur sur données d'apprentissage\n",
    "#tend vers 0 car on l'a entrainé sur ces données mais pas 0 car certaines données peuvent être proches de plusieurs classes\n",
    "1 - clf.score(datatrain,targettrain)"
   ]
  },
  {
   "cell_type": "code",
   "execution_count": 4,
   "metadata": {},
   "outputs": [
    {
     "name": "stdout",
     "output_type": "stream",
     "text": [
      "k =  2 score moyen =  0.9224\n",
      "k =  3 score moyen =  0.9349999999999999\n",
      "k =  4 score moyen =  0.9282\n",
      "k =  5 score moyen =  0.9296\n",
      "k =  6 score moyen =  0.9268000000000001\n",
      "k =  7 score moyen =  0.9264000000000001\n",
      "k =  8 score moyen =  0.9194000000000001\n",
      "k =  9 score moyen =  0.924\n",
      "k =  10 score moyen =  0.9198000000000001\n",
      "k =  11 score moyen =  0.9196\n",
      "k =  12 score moyen =  0.9178\n",
      "k =  13 score moyen =  0.9154\n",
      "k =  14 score moyen =  0.9164000000000001\n",
      "k =  15 score moyen =  0.9158\n"
     ]
    }
   ],
   "source": [
    "#score pour des k de 2 a 15 avec 90% apprentissage (nb_splits=10) / 80% apprentissage(nb_splits=5)\n",
    "nb_splits = 5\n",
    "kf = KFold(n_splits=nb_splits,shuffle=True)\n",
    "mean_scores = []\n",
    "mean_time_k = []\n",
    "for k in range(2,16):\n",
    "    clf = neighbors.KNeighborsClassifier(k)\n",
    "    score_sum = 0\n",
    "    time_sum = 0\n",
    "    for indextrain, indextest in kf.split(data):\n",
    "        xtrain, xtest, ytrain, ytest = data[indextrain], data[indextest], target[indextrain], target[indextest]\n",
    "        start_time = time.time()\n",
    "        clf.fit(xtrain,ytrain)\n",
    "        score = clf.score(xtest,ytest)\n",
    "        time_sum = time_sum + (time.time()-start_time)\n",
    "        score_sum = score_sum + score\n",
    "    mean_k = score_sum/nb_splits\n",
    "    mean_scores.append(mean_k)\n",
    "    mean_time_k.append(time_sum/nb_splits)\n",
    "    print(\"k =\", k, \"score moyen =\", mean_k)"
   ]
  },
  {
   "cell_type": "code",
   "execution_count": 5,
   "metadata": {},
   "outputs": [
    {
     "data": {
      "image/png": "[encoded data removed]",
      "text/plain": [
       "<Figure size 432x288 with 1 Axes>"
      ]
     },
     "metadata": {
      "needs_background": "light"
     },
     "output_type": "display_data"
    }
   ],
   "source": [
    "plt.plot(np.arange(2,16),mean_scores,'b+-')\n",
    "plt.ylabel('mean score')\n",
    "plt.xlabel('k')\n",
    "plt.show()"
   ]
  },
  {
   "cell_type": "code",
   "execution_count": 8,
   "metadata": {},
   "outputs": [
    {
     "name": "stdout",
     "output_type": "stream",
     "text": [
      "meilleur k = 3\n"
     ]
    }
   ],
   "source": [
    "#on fixe k avec l'optimal trouvé\n",
    "k = mean_scores.index(max(mean_scores)) + 2\n",
    "print(\"meilleur k =\",k)"
   ]
  },
  {
   "cell_type": "code",
   "execution_count": 9,
   "metadata": {},
   "outputs": [
    {
     "name": "stderr",
     "output_type": "stream",
     "text": [
      "C:\\Users\\linam\\Anaconda3\\lib\\site-packages\\sklearn\\model_selection\\_split.py:2179: FutureWarning: From version 0.21, test_size will always complement train_size unless both are specified.\n",
      "  FutureWarning)\n"
     ]
    },
    {
     "name": "stdout",
     "output_type": "stream",
     "text": [
      "pourcentage = 70.0 % score = 0.9273333333333333 time = 8.813724994659424\n"
     ]
    },
    {
     "name": "stderr",
     "output_type": "stream",
     "text": [
      "C:\\Users\\linam\\Anaconda3\\lib\\site-packages\\sklearn\\model_selection\\_split.py:2179: FutureWarning: From version 0.21, test_size will always complement train_size unless both are specified.\n",
      "  FutureWarning)\n"
     ]
    },
    {
     "name": "stdout",
     "output_type": "stream",
     "text": [
      "pourcentage = 75.0 % score = 0.9312 time = 6.657346487045288\n"
     ]
    },
    {
     "name": "stderr",
     "output_type": "stream",
     "text": [
      "C:\\Users\\linam\\Anaconda3\\lib\\site-packages\\sklearn\\model_selection\\_split.py:2179: FutureWarning: From version 0.21, test_size will always complement train_size unless both are specified.\n",
      "  FutureWarning)\n"
     ]
    },
    {
     "name": "stdout",
     "output_type": "stream",
     "text": [
      "pourcentage = 80.0 % score = 0.952 time = 6.750887870788574\n"
     ]
    },
    {
     "name": "stderr",
     "output_type": "stream",
     "text": [
      "C:\\Users\\linam\\Anaconda3\\lib\\site-packages\\sklearn\\model_selection\\_split.py:2179: FutureWarning: From version 0.21, test_size will always complement train_size unless both are specified.\n",
      "  FutureWarning)\n"
     ]
    },
    {
     "name": "stdout",
     "output_type": "stream",
     "text": [
      "pourcentage = 85.00000000000001 % score = 0.9266666666666666 time = 5.388763427734375\n"
     ]
    },
    {
     "name": "stderr",
     "output_type": "stream",
     "text": [
      "C:\\Users\\linam\\Anaconda3\\lib\\site-packages\\sklearn\\model_selection\\_split.py:2179: FutureWarning: From version 0.21, test_size will always complement train_size unless both are specified.\n",
      "  FutureWarning)\n"
     ]
    },
    {
     "name": "stdout",
     "output_type": "stream",
     "text": [
      "pourcentage = 90.00000000000001 % score = 0.96 time = 4.68782377243042\n"
     ]
    }
   ],
   "source": [
    "clf = neighbors.KNeighborsClassifier(k)\n",
    "#score pour pourcentages variés\n",
    "scores = []\n",
    "time_p = []\n",
    "for pourc in np.arange(0.7,0.9,0.05):\n",
    "    xtrain, xtest, ytrain, ytest = train_test_split(data, target,train_size=pourc)\n",
    "    start_time = time.time()\n",
    "    clf.fit(xtrain,ytrain)\n",
    "    score = clf.score(xtest,ytest)\n",
    "    elapsed = time.time()-start_time\n",
    "    time_p.append(elapsed)\n",
    "    scores.append(score)\n",
    "    print(\"pourcentage =\", pourc * 100, \"% score =\", score, \"time =\", elapsed)"
   ]
  },
  {
   "cell_type": "code",
   "execution_count": 10,
   "metadata": {},
   "outputs": [
    {
     "data": {
      "image/png": "[encoded data removed]",
      "text/plain": [
       "<Figure size 432x288 with 1 Axes>"
      ]
     },
     "metadata": {
      "needs_background": "light"
     },
     "output_type": "display_data"
    }
   ],
   "source": [
    "plt.plot(np.arange(0.7,0.9,0.05),scores,'+-')\n",
    "plt.ylabel('score')\n",
    "plt.xlabel('percentage')\n",
    "plt.show()"
   ]
  },
  {
   "cell_type": "code",
   "execution_count": 11,
   "metadata": {},
   "outputs": [
    {
     "name": "stdout",
     "output_type": "stream",
     "text": [
      "meilleur pourcentage = 0.8999999999999999\n"
     ]
    }
   ],
   "source": [
    "# on fixe le pourcentage à l'optimal trouvé au-dessus\n",
    "pourcentage = scores.index(max(scores)) * 0.05 + 0.7\n",
    "print(\"meilleur pourcentage =\",pourcentage)"
   ]
  },
  {
   "cell_type": "code",
   "execution_count": 12,
   "metadata": {},
   "outputs": [
    {
     "name": "stderr",
     "output_type": "stream",
     "text": [
      "C:\\Users\\linam\\Anaconda3\\lib\\site-packages\\sklearn\\model_selection\\_split.py:2179: FutureWarning: From version 0.21, test_size will always complement train_size unless both are specified.\n",
      "  FutureWarning)\n"
     ]
    },
    {
     "name": "stdout",
     "output_type": "stream",
     "text": [
      "taille =  2000 score =  0.9054726368159204 time =  0.5645654201507568\n"
     ]
    },
    {
     "name": "stderr",
     "output_type": "stream",
     "text": [
      "C:\\Users\\linam\\Anaconda3\\lib\\site-packages\\sklearn\\model_selection\\_split.py:2179: FutureWarning: From version 0.21, test_size will always complement train_size unless both are specified.\n",
      "  FutureWarning)\n"
     ]
    },
    {
     "name": "stdout",
     "output_type": "stream",
     "text": [
      "taille =  7000 score =  0.927246790299572 time =  7.2152626514434814\n"
     ]
    },
    {
     "name": "stderr",
     "output_type": "stream",
     "text": [
      "C:\\Users\\linam\\Anaconda3\\lib\\site-packages\\sklearn\\model_selection\\_split.py:2179: FutureWarning: From version 0.21, test_size will always complement train_size unless both are specified.\n",
      "  FutureWarning)\n"
     ]
    },
    {
     "name": "stdout",
     "output_type": "stream",
     "text": [
      "taille =  12000 score =  0.9600333055786844 time =  22.015438079833984\n"
     ]
    },
    {
     "name": "stderr",
     "output_type": "stream",
     "text": [
      "C:\\Users\\linam\\Anaconda3\\lib\\site-packages\\sklearn\\model_selection\\_split.py:2179: FutureWarning: From version 0.21, test_size will always complement train_size unless both are specified.\n",
      "  FutureWarning)\n"
     ]
    },
    {
     "name": "stdout",
     "output_type": "stream",
     "text": [
      "taille =  17000 score =  0.958259847148736 time =  42.20580840110779\n"
     ]
    },
    {
     "name": "stderr",
     "output_type": "stream",
     "text": [
      "C:\\Users\\linam\\Anaconda3\\lib\\site-packages\\sklearn\\model_selection\\_split.py:2179: FutureWarning: From version 0.21, test_size will always complement train_size unless both are specified.\n",
      "  FutureWarning)\n"
     ]
    },
    {
     "name": "stdout",
     "output_type": "stream",
     "text": [
      "taille =  22000 score =  0.9618355293048614 time =  74.74559903144836\n"
     ]
    },
    {
     "name": "stderr",
     "output_type": "stream",
     "text": [
      "C:\\Users\\linam\\Anaconda3\\lib\\site-packages\\sklearn\\model_selection\\_split.py:2179: FutureWarning: From version 0.21, test_size will always complement train_size unless both are specified.\n",
      "  FutureWarning)\n"
     ]
    },
    {
     "name": "stdout",
     "output_type": "stream",
     "text": [
      "taille =  27000 score =  0.9651980747871158 time =  98.1407322883606\n"
     ]
    },
    {
     "name": "stderr",
     "output_type": "stream",
     "text": [
      "C:\\Users\\linam\\Anaconda3\\lib\\site-packages\\sklearn\\model_selection\\_split.py:2179: FutureWarning: From version 0.21, test_size will always complement train_size unless both are specified.\n",
      "  FutureWarning)\n"
     ]
    },
    {
     "name": "stdout",
     "output_type": "stream",
     "text": [
      "taille =  32000 score =  0.9678225554514215 time =  140.9991579055786\n"
     ]
    },
    {
     "name": "stderr",
     "output_type": "stream",
     "text": [
      "C:\\Users\\linam\\Anaconda3\\lib\\site-packages\\sklearn\\model_selection\\_split.py:2179: FutureWarning: From version 0.21, test_size will always complement train_size unless both are specified.\n",
      "  FutureWarning)\n"
     ]
    },
    {
     "name": "stdout",
     "output_type": "stream",
     "text": [
      "taille =  37000 score =  0.9686486486486486 time =  212.202490568161\n"
     ]
    },
    {
     "name": "stderr",
     "output_type": "stream",
     "text": [
      "C:\\Users\\linam\\Anaconda3\\lib\\site-packages\\sklearn\\model_selection\\_split.py:2179: FutureWarning: From version 0.21, test_size will always complement train_size unless both are specified.\n",
      "  FutureWarning)\n"
     ]
    },
    {
     "name": "stdout",
     "output_type": "stream",
     "text": [
      "taille =  42000 score =  0.974529873839562 time =  263.15533661842346\n"
     ]
    },
    {
     "name": "stderr",
     "output_type": "stream",
     "text": [
      "C:\\Users\\linam\\Anaconda3\\lib\\site-packages\\sklearn\\model_selection\\_split.py:2179: FutureWarning: From version 0.21, test_size will always complement train_size unless both are specified.\n",
      "  FutureWarning)\n"
     ]
    },
    {
     "name": "stdout",
     "output_type": "stream",
     "text": [
      "taille =  47000 score =  0.9740480748776856 time =  315.9218270778656\n"
     ]
    },
    {
     "name": "stderr",
     "output_type": "stream",
     "text": [
      "C:\\Users\\linam\\Anaconda3\\lib\\site-packages\\sklearn\\model_selection\\_split.py:2179: FutureWarning: From version 0.21, test_size will always complement train_size unless both are specified.\n",
      "  FutureWarning)\n"
     ]
    },
    {
     "name": "stdout",
     "output_type": "stream",
     "text": [
      "taille =  52000 score =  0.973466641030571 time =  375.09376549720764\n"
     ]
    },
    {
     "name": "stderr",
     "output_type": "stream",
     "text": [
      "C:\\Users\\linam\\Anaconda3\\lib\\site-packages\\sklearn\\model_selection\\_split.py:2179: FutureWarning: From version 0.21, test_size will always complement train_size unless both are specified.\n",
      "  FutureWarning)\n"
     ]
    },
    {
     "name": "stdout",
     "output_type": "stream",
     "text": [
      "taille =  57000 score =  0.9766707595158745 time =  442.23256039619446\n"
     ]
    }
   ],
   "source": [
    "scores_pourc = []\n",
    "time_s = []\n",
    "#variation de la taille de l'échantillon\n",
    "for s in np.arange(2000,57001,5000):\n",
    "    index = np.random.randint(70000, size=s)\n",
    "    data = mnist.data[index]\n",
    "    target = mnist.target[index]\n",
    "    xtrain, xtest, ytrain, ytest = train_test_split(data, target,train_size=pourcentage)\n",
    "    start_time = time.time()\n",
    "    clf.fit(xtrain,ytrain)\n",
    "    score = clf.score(xtest,ytest)\n",
    "    elapsed = time.time() - start_time\n",
    "    scores_pourc.append(score)\n",
    "    time_s.append(elapsed)\n",
    "    print(\"taille =\", s, \"score =\", score, \"time =\", elapsed)"
   ]
  },
  {
   "cell_type": "code",
   "execution_count": 21,
   "metadata": {},
   "outputs": [
    {
     "data": {
      "image/png": "[encoded data removed]",
      "text/plain": [
       "<Figure size 432x288 with 2 Axes>"
      ]
     },
     "metadata": {
      "needs_background": "light"
     },
     "output_type": "display_data"
    },
    {
     "data": {
      "image/png": "[encoded data removed]",
      "text/plain": [
       "<Figure size 432x288 with 2 Axes>"
      ]
     },
     "metadata": {
      "needs_background": "light"
     },
     "output_type": "display_data"
    }
   ],
   "source": [
    "plt.figure()\n",
    "plt.subplot(211)\n",
    "plt.plot(np.arange(2000,57001,5000),scores_pourc,'+-')\n",
    "plt.ylabel('score')\n",
    "plt.xlabel('size')\n",
    "\n",
    "plt.subplot(212)\n",
    "plt.plot(np.arange(2000,57001,5000),time_s,'r+-')\n",
    "plt.xlabel('size')\n",
    "plt.ylabel('execution time')\n",
    "\n",
    "plt.show()\n",
    "\n",
    "fig, ax1 = plt.subplots()\n",
    "\n",
    "color = 'tab:blue'\n",
    "ax1.set_xlabel('size')\n",
    "ax1.set_ylabel('score', color=color)\n",
    "ax1.plot(np.arange(2000,57001,5000),scores_pourc,'+-',color=color)\n",
    "ax1.tick_params(axis='y', labelcolor=color)\n",
    "\n",
    "ax2 = ax1.twinx()\n",
    "\n",
    "color = 'tab:red'\n",
    "ax2.set_ylabel('execution time', color=color)\n",
    "ax2.plot(np.arange(2000,57001,5000),time_s,'r+-',color=color)\n",
    "ax2.tick_params(axis='y', labelcolor=color)\n",
    "\n",
    "fig.tight_layout()\n",
    "plt.show()"
   ]
  },
  {
   "cell_type": "code",
   "execution_count": 15,
   "metadata": {},
   "outputs": [],
   "source": [
    "# on fixe la taille de l'échantillon\n",
    "taille_echant = 32000"
   ]
  },
  {
   "cell_type": "code",
   "execution_count": 17,
   "metadata": {},
   "outputs": [
    {
     "name": "stderr",
     "output_type": "stream",
     "text": [
      "C:\\Users\\linam\\Anaconda3\\lib\\site-packages\\sklearn\\model_selection\\_split.py:2179: FutureWarning: From version 0.21, test_size will always complement train_size unless both are specified.\n",
      "  FutureWarning)\n"
     ]
    },
    {
     "name": "stdout",
     "output_type": "stream",
     "text": [
      "distance = 1 score = 0.9637613245860669 time = 125.29461741447449\n",
      "distance = 2 score = 0.97125898156826 time = 138.22251749038696\n",
      "distance = 3 score = 0.971571383942518 time = 1375.29550075531\n",
      "distance = 4 score = 0.9731333958138082 time = 1314.29412150383\n"
     ]
    }
   ],
   "source": [
    "index = np.random.randint(70000, size=taille_echant)\n",
    "data = mnist.data[index]\n",
    "target = mnist.target[index]\n",
    "xtrain, xtest, ytrain, ytest = train_test_split(data, target,train_size=pourcentage)\n",
    "scores_dist = []\n",
    "time_dist = []\n",
    "#variation des distances\n",
    "for dist in range(1,5):\n",
    "    clf = neighbors.KNeighborsClassifier(k,p=dist)\n",
    "    start_time = time.time()\n",
    "    clf.fit(xtrain,ytrain)\n",
    "    score = clf.score(xtest,ytest)\n",
    "    elapsed = time.time()-start_time\n",
    "    scores_dist.append(score)\n",
    "    time_dist.append(elapsed)\n",
    "    print(\"distance =\", dist, \"score =\", score, \"time =\", elapsed)"
   ]
  },
  {
   "cell_type": "code",
   "execution_count": 20,
   "metadata": {},
   "outputs": [
    {
     "data": {
      "image/png": "[encoded data removed]",
      "text/plain": [
       "<Figure size 432x288 with 2 Axes>"
      ]
     },
     "metadata": {
      "needs_background": "light"
     },
     "output_type": "display_data"
    }
   ],
   "source": [
    "fig, ax1 = plt.subplots()\n",
    "\n",
    "color = 'tab:blue'\n",
    "ax1.set_xlabel('distance')\n",
    "ax1.set_ylabel('score', color=color)\n",
    "ax1.plot(np.arange(1,5),scores_dist,'+-',color=color)\n",
    "ax1.tick_params(axis='y', labelcolor=color)\n",
    "\n",
    "ax2 = ax1.twinx()\n",
    "\n",
    "color = 'tab:red'\n",
    "ax2.set_ylabel('execution time', color=color)\n",
    "ax2.plot(np.arange(1,5),time_dist,'o-',color=color)\n",
    "ax2.tick_params(axis='y', labelcolor=color)\n",
    "\n",
    "fig.tight_layout()\n",
    "plt.show()"
   ]
  },
  {
   "cell_type": "code",
   "execution_count": 22,
   "metadata": {},
   "outputs": [],
   "source": [
    "#on fixe le paramètre de distance\n",
    "distance = 2"
   ]
  },
  {
   "cell_type": "code",
   "execution_count": null,
   "metadata": {},
   "outputs": [],
   "source": [
    "clf = neighbors.KNeighborsClassifier(k,p=distance,n_jobs=1)\n",
    "start_time = time.time()\n",
    "clf.fit(xtrain,ytrain)\n",
    "score = clf.score(xtest,ytest)\n",
    "elapsed = time.time()-start_time\n",
    "print(\"n_jobs = 1 score =\", score, \"time =\", elapsed)\n",
    "\n",
    "clf = neighbors.KNeighborsClassifier(k,p=distance,n_jobs=-1)\n",
    "start_time = time.time()\n",
    "clf.fit(xtrain,ytrain)\n",
    "score = clf.score(xtest,ytest)\n",
    "elapsed = time.time()-start_time\n",
    "print(\"n_jobs = -1 score =\", score, \"time =\", elapsed)"
   ]
  }
 ],
 "metadata": {
  "kernelspec": {
   "display_name": "Python 3",
   "language": "python",
   "name": "python3"
  },
  "language_info": {
   "codemirror_mode": {
    "name": "ipython",
    "version": 3
   },
   "file_extension": ".py",
   "mimetype": "text/x-python",
   "name": "python",
   "nbconvert_exporter": "python",
   "pygments_lexer": "ipython3",
   "version": "3.7.3"
  }
 },
 "nbformat": 4,
 "nbformat_minor": 2
}
