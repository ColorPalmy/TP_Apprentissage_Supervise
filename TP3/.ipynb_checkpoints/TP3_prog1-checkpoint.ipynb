{
 "cells": [
  {
   "cell_type": "code",
   "execution_count": 1,
   "metadata": {},
   "outputs": [],
   "source": [
    "from sklearn.datasets import fetch_openml\n",
    "from sklearn.model_selection import train_test_split\n",
    "from sklearn.metrics import precision_score, recall_score, zero_one_loss, confusion_matrix\n",
    "from sklearn.svm import SVC\n",
    "import numpy as np\n",
    "import matplotlib.pyplot as plt\n",
    "import time"
   ]
  },
  {
   "cell_type": "code",
   "execution_count": 2,
   "metadata": {},
   "outputs": [],
   "source": [
    "mnist = fetch_openml('mnist_784')"
   ]
  },
  {
   "cell_type": "code",
   "execution_count": 9,
   "metadata": {},
   "outputs": [
    {
     "name": "stdout",
     "output_type": "stream",
     "text": [
      "(14000, 784)\n",
      "(14000,)\n"
     ]
    }
   ],
   "source": [
    "#tableau de 7000 valeurs aléatoires entre à et 70000\n",
    "index = np.random.randint(70000, size=20000)\n",
    "#échantillon de 7000 données de Mnist\n",
    "data = mnist.data[index]\n",
    "#étiquettes correspondant aux 7000 données échantillons\n",
    "target = mnist.target[index]\n",
    "#division de la base en données d'apprentissage (70%) et de test (30%)\n",
    "datatrain, datatest, targettrain, targettest = train_test_split(data, target,train_size=0.70)\n",
    "print(datatrain.shape)\n",
    "print(targettrain.shape)"
   ]
  },
  {
   "cell_type": "code",
   "execution_count": 10,
   "metadata": {},
   "outputs": [
    {
     "name": "stderr",
     "output_type": "stream",
     "text": [
      "C:\\Users\\linam\\Anaconda3\\lib\\site-packages\\sklearn\\svm\\base.py:196: FutureWarning: The default value of gamma will change from 'auto' to 'scale' in version 0.22 to account better for unscaled features. Set gamma explicitly to 'auto' or 'scale' to avoid this warning.\n",
      "  \"avoid this warning.\", FutureWarning)\n"
     ]
    },
    {
     "name": "stdout",
     "output_type": "stream",
     "text": [
      "0.9701666666666666\n"
     ]
    }
   ],
   "source": [
    "# SVM avec noyau linéaire\n",
    "clsvm = SVC(kernel='poly')\n",
    "clsvm.fit(datatrain,targettrain)\n",
    "print(clsvm.score(datatest,targettest))"
   ]
  },
  {
   "cell_type": "code",
   "execution_count": 11,
   "metadata": {},
   "outputs": [
    {
     "name": "stdout",
     "output_type": "stream",
     "text": [
      "precision = 0.9306666666666666 precision apprentissage = 1.0 rappel = 0.9306666666666666 erreur = 0.06933333333333336 temps = 30.875 time = 31.271011114120483 noyau = linear\n",
      "[[571   0   5   1   0   6   2   1   1   0]\n",
      " [  0 719   0   6   2   1   1   0   6   1]\n",
      " [  5   6 582   6   1   1   5   6   8   0]\n",
      " [  1   4   5 557   2  12   2   6   9   0]\n",
      " [  2   1   5   1 539   0   3   5   2  12]\n",
      " [  3   3   3  30   3 473   8   2   5   2]\n",
      " [  4   0   8   0   1  10 541   0   0   0]\n",
      " [  0   5  11   6   4   0   1 599   0  13]\n",
      " [  6  19  11  18   5  17   1   4 479   4]\n",
      " [  2   3   1  10  25   5   0  20   0 524]]\n"
     ]
    },
    {
     "name": "stderr",
     "output_type": "stream",
     "text": [
      "C:\\Users\\linam\\Anaconda3\\lib\\site-packages\\sklearn\\svm\\base.py:196: FutureWarning: The default value of gamma will change from 'auto' to 'scale' in version 0.22 to account better for unscaled features. Set gamma explicitly to 'auto' or 'scale' to avoid this warning.\n",
      "  \"avoid this warning.\", FutureWarning)\n"
     ]
    },
    {
     "name": "stdout",
     "output_type": "stream",
     "text": [
      "precision = 0.9701666666666666 precision apprentissage = 1.0 rappel = 0.9701666666666666 erreur = 0.02983333333333338 temps = 36.265625 time = 36.941537857055664 noyau = poly\n",
      "[[577   0   1   0   0   4   3   1   1   0]\n",
      " [  0 728   1   1   3   0   1   1   1   0]\n",
      " [  2   5 602   6   1   0   0   3   1   0]\n",
      " [  0   3   2 581   1   2   0   6   2   1]\n",
      " [  3   0   3   0 553   0   0   0   2   9]\n",
      " [  1   0   0   5   1 513   6   0   3   3]\n",
      " [  5   2   2   0   0   2 552   0   1   0]\n",
      " [  0   3   4   2   4   0   0 623   1   2]\n",
      " [  4   3   4   8   5   4   3   1 530   2]\n",
      " [  1   4   1   4   9   4   0   3   2 562]]\n"
     ]
    },
    {
     "name": "stderr",
     "output_type": "stream",
     "text": [
      "C:\\Users\\linam\\Anaconda3\\lib\\site-packages\\sklearn\\svm\\base.py:196: FutureWarning: The default value of gamma will change from 'auto' to 'scale' in version 0.22 to account better for unscaled features. Set gamma explicitly to 'auto' or 'scale' to avoid this warning.\n",
      "  \"avoid this warning.\", FutureWarning)\n"
     ]
    },
    {
     "name": "stdout",
     "output_type": "stream",
     "text": [
      "precision = 0.283 precision apprentissage = 1.0 rappel = 0.283 erreur = 0.7170000000000001 temps = 439.109375 time = 449.06865763664246 noyau = rbf\n",
      "[[ 96 491   0   0   0   0   0   0   0   0]\n",
      " [  0 736   0   0   0   0   0   0   0   0]\n",
      " [  0 515 105   0   0   0   0   0   0   0]\n",
      " [  0 473   0 125   0   0   0   0   0   0]\n",
      " [  0 459   0   0 111   0   0   0   0   0]\n",
      " [  0 435   0   0   0  97   0   0   0   0]\n",
      " [  0 468   0   0   0   0  96   0   0   0]\n",
      " [  0 514   0   0   0   0   0 125   0   0]\n",
      " [  0 449   0   0   0   0   0   0 115   0]\n",
      " [  0 498   0   0   0   0   0   0   0  92]]\n"
     ]
    },
    {
     "name": "stderr",
     "output_type": "stream",
     "text": [
      "C:\\Users\\linam\\Anaconda3\\lib\\site-packages\\sklearn\\svm\\base.py:196: FutureWarning: The default value of gamma will change from 'auto' to 'scale' in version 0.22 to account better for unscaled features. Set gamma explicitly to 'auto' or 'scale' to avoid this warning.\n",
      "  \"avoid this warning.\", FutureWarning)\n"
     ]
    },
    {
     "name": "stdout",
     "output_type": "stream",
     "text": [
      "precision = 0.12266666666666666 precision apprentissage = 0.11021428571428571 rappel = 0.12266666666666666 erreur = 0.8773333333333333 temps = 421.4375 time = 442.44781851768494 noyau = sigmoid\n",
      "[[  0 587   0   0   0   0   0   0   0   0]\n",
      " [  0 736   0   0   0   0   0   0   0   0]\n",
      " [  0 620   0   0   0   0   0   0   0   0]\n",
      " [  0 598   0   0   0   0   0   0   0   0]\n",
      " [  0 570   0   0   0   0   0   0   0   0]\n",
      " [  0 532   0   0   0   0   0   0   0   0]\n",
      " [  0 564   0   0   0   0   0   0   0   0]\n",
      " [  0 639   0   0   0   0   0   0   0   0]\n",
      " [  0 564   0   0   0   0   0   0   0   0]\n",
      " [  0 590   0   0   0   0   0   0   0   0]]\n"
     ]
    }
   ],
   "source": [
    "precisions_kernel = []\n",
    "rappel_kernel = []\n",
    "temps_kernel = []\n",
    "tt_kernel = []\n",
    "erreur_kernel = []\n",
    "train_precisions_kernel = []\n",
    "for n in [\"linear\", \"poly\", \"rbf\", \"sigmoid\"]:\n",
    "    clsvm = SVC(kernel=n)\n",
    "    st = time.time()\n",
    "    start_time = time.process_time()\n",
    "    clsvm.fit(datatrain,targettrain)\n",
    "    elapsed = time.process_time()-start_time\n",
    "    duration = time.time()- st\n",
    "    testpred = clsvm.predict(datatest)\n",
    "    prec = clsvm.score(datatest,targettest)\n",
    "    train_prec = clsvm.score(datatrain,targettrain)\n",
    "    rap = recall_score(targettest,testpred,average='micro')\n",
    "    err = zero_one_loss(targettest,testpred)\n",
    "    precisions_kernel.append(prec)\n",
    "    train_precisions_kernel.append(train_prec)\n",
    "    rappel_kernel.append(rap)\n",
    "    temps_kernel.append(elapsed)\n",
    "    tt_kernel.append(duration)\n",
    "    erreur_kernel.append(err)\n",
    "    print(\"precision =\",prec,\"precision apprentissage =\",train_prec,\"rappel =\",rap,\"erreur =\",err,\"temps =\",elapsed, \"time =\",duration,\"noyau =\",n)\n",
    "    cm = confusion_matrix(targettest,testpred)\n",
    "    print(cm)"
   ]
  },
  {
   "cell_type": "code",
   "execution_count": 12,
   "metadata": {},
   "outputs": [
    {
     "data": {
      "image/png": "[encoded data removed]",
      "text/plain": [
       "<Figure size 432x288 with 2 Axes>"
      ]
     },
     "metadata": {
      "needs_background": "light"
     },
     "output_type": "display_data"
    }
   ],
   "source": [
    "fig, ax1 = plt.subplots()\n",
    "\n",
    "color = 'tab:blue'\n",
    "ax1.set_xlabel('kernel')\n",
    "ax1.set_ylabel('precision', color=color)\n",
    "ax1.plot([\"linear\", \"poly\", \"rbf\", \"sigmoid\"],precisions_kernel,'+-',color=color)\n",
    "ax1.tick_params(axis='y', labelcolor=color)\n",
    "\n",
    "ax2 = ax1.twinx()\n",
    "\n",
    "color = 'tab:red'\n",
    "ax2.set_ylabel('execution time', color=color)\n",
    "ax2.plot([\"linear\", \"poly\", \"rbf\", \"sigmoid\"],temps_kernel,'+-',color=color)\n",
    "ax2.tick_params(axis='y', labelcolor=color)\n",
    "\n",
    "fig.tight_layout()\n",
    "plt.show()"
   ]
  },
  {
   "cell_type": "code",
   "execution_count": 13,
   "metadata": {},
   "outputs": [
    {
     "data": {
      "image/png": "[encoded data removed]",
      "text/plain": [
       "<Figure size 432x288 with 2 Axes>"
      ]
     },
     "metadata": {
      "needs_background": "light"
     },
     "output_type": "display_data"
    }
   ],
   "source": [
    "fig, ax1 = plt.subplots()\n",
    "\n",
    "color = 'tab:blue'\n",
    "ax1.set_xlabel('kernel')\n",
    "ax1.set_ylabel('precision', color=color)\n",
    "ax1.plot([\"linear\", \"poly\", \"rbf\", \"sigmoid\"],precisions_kernel,'+-',color=color)\n",
    "ax1.tick_params(axis='y', labelcolor=color)\n",
    "\n",
    "ax2 = ax1.twinx()\n",
    "\n",
    "color = 'tab:red'\n",
    "ax2.set_ylabel('execution time', color=color)\n",
    "ax2.plot([\"linear\", \"poly\", \"rbf\", \"sigmoid\"],tt_kernel,'+-',color=color)\n",
    "ax2.tick_params(axis='y', labelcolor=color)\n",
    "\n",
    "fig.tight_layout()\n",
    "plt.show()"
   ]
  },
  {
   "cell_type": "code",
   "execution_count": 14,
   "metadata": {},
   "outputs": [
    {
     "data": {
      "image/png": "[encoded data removed]",
      "text/plain": [
       "<Figure size 432x288 with 1 Axes>"
      ]
     },
     "metadata": {
      "needs_background": "light"
     },
     "output_type": "display_data"
    }
   ],
   "source": [
    "plt.plot([\"linear\", \"poly\", \"rbf\", \"sigmoid\"],temps_kernel,'+-')\n",
    "plt.ylabel('training time')\n",
    "plt.xlabel('kernel')\n",
    "plt.show()"
   ]
  },
  {
   "cell_type": "code",
   "execution_count": 15,
   "metadata": {},
   "outputs": [
    {
     "data": {
      "image/png": "[encoded data removed]",
      "text/plain": [
       "<Figure size 432x288 with 1 Axes>"
      ]
     },
     "metadata": {
      "needs_background": "light"
     },
     "output_type": "display_data"
    }
   ],
   "source": [
    "plt.plot([\"linear\", \"poly\", \"rbf\", \"sigmoid\"],tt_kernel,'+-')\n",
    "plt.ylabel('training time')\n",
    "plt.xlabel('kernel')\n",
    "plt.show()"
   ]
  },
  {
   "cell_type": "code",
   "execution_count": 16,
   "metadata": {},
   "outputs": [
    {
     "data": {
      "image/png": "[encoded data removed]",
      "text/plain": [
       "<Figure size 432x288 with 1 Axes>"
      ]
     },
     "metadata": {
      "needs_background": "light"
     },
     "output_type": "display_data"
    }
   ],
   "source": [
    "plt.plot([\"linear\", \"poly\", \"rbf\", \"sigmoid\"],erreur_kernel,'+-')\n",
    "plt.ylabel('error')\n",
    "plt.xlabel('kernel')\n",
    "plt.show()"
   ]
  },
  {
   "cell_type": "code",
   "execution_count": 17,
   "metadata": {},
   "outputs": [
    {
     "data": {
      "image/png": "[encoded data removed]",
      "text/plain": [
       "<Figure size 432x288 with 2 Axes>"
      ]
     },
     "metadata": {
      "needs_background": "light"
     },
     "output_type": "display_data"
    }
   ],
   "source": [
    "fig, ax1 = plt.subplots()\n",
    "\n",
    "color = 'tab:blue'\n",
    "ax1.set_xlabel('kernel')\n",
    "ax1.set_ylabel('precision', color=color)\n",
    "ax1.plot([\"linear\", \"poly\", \"rbf\", \"sigmoid\"],precisions_kernel,'+-',color=color)\n",
    "ax1.tick_params(axis='y', labelcolor=color)\n",
    "\n",
    "ax2 = ax1.twinx()\n",
    "\n",
    "color = 'tab:red'\n",
    "ax2.set_ylabel('rappel', color=color)\n",
    "ax2.plot([\"linear\", \"poly\", \"rbf\", \"sigmoid\"],rappel_kernel,'+-',color=color)\n",
    "ax2.tick_params(axis='y', labelcolor=color)\n",
    "\n",
    "fig.tight_layout()\n",
    "plt.show()"
   ]
  },
  {
   "cell_type": "code",
   "execution_count": null,
   "metadata": {},
   "outputs": [
    {
     "name": "stderr",
     "output_type": "stream",
     "text": [
      "C:\\Users\\linam\\Anaconda3\\lib\\site-packages\\sklearn\\svm\\base.py:196: FutureWarning: The default value of gamma will change from 'auto' to 'scale' in version 0.22 to account better for unscaled features. Set gamma explicitly to 'auto' or 'scale' to avoid this warning.\n",
      "  \"avoid this warning.\", FutureWarning)\n"
     ]
    }
   ],
   "source": [
    "precisions_c = []\n",
    "rappel_c = []\n",
    "temps_c = []\n",
    "tt_c = []\n",
    "erreur_c = []\n",
    "train_precisions_c = []\n",
    "train_erreur_c = []\n",
    "for tol in [0.1, 0.3, 0.5, 0.7, 1]:\n",
    "    clsvm = SVC(C=tol,kernel='poly')\n",
    "    st = time.time()\n",
    "    start_time = time.process_time()\n",
    "    clsvm.fit(datatrain,targettrain)\n",
    "    elapsed = time.process_time()-start_time\n",
    "    duration = time.time()-st\n",
    "    testpred = clsvm.predict(datatest)\n",
    "    trainpred = clsvm.predict(datatrain)\n",
    "    prec = clsvm.score(datatest,targettest)\n",
    "    train_prec = clsvm.score(datatrain,targettrain)\n",
    "    rap = recall_score(targettest,testpred,average='micro')\n",
    "    err = zero_one_loss(targettest,testpred)\n",
    "    train_err = zero_one_loss(targettrain,trainpred)\n",
    "    precisions_c.append(prec)\n",
    "    train_precisions_c.append(train_prec)\n",
    "    rappel_c.append(rap)\n",
    "    temps_c.append(elapsed)\n",
    "    tt_c.append(duration)\n",
    "    erreur_c.append(err)\n",
    "    train_erreur_c.append(train_err)\n",
    "    print(\"precision =\",prec,\"precision apprentissage =\",train_prec,\"rappel =\",rap,\"erreur =\",err,\"temps =\",elapsed,\"time =\",duration,\"tolérance aux erreurs =\",tol)\n",
    "    cm = confusion_matrix(targettest,testpred)\n",
    "    print(cm)"
   ]
  },
  {
   "cell_type": "code",
   "execution_count": null,
   "metadata": {},
   "outputs": [],
   "source": [
    "fig, ax1 = plt.subplots()\n",
    "\n",
    "color = 'tab:blue'\n",
    "ax1.set_xlabel('tolerance')\n",
    "ax1.set_ylabel('erreur test', color=color)\n",
    "ax1.plot([0.1, 0.3, 0.5, 0.7, 1],erreur_c,'+-',color=color)\n",
    "ax1.tick_params(axis='y', labelcolor=color)\n",
    "\n",
    "ax2 = ax1.twinx()\n",
    "\n",
    "color = 'tab:red'\n",
    "ax2.set_ylabel('erreur train', color=color)\n",
    "ax2.plot([0.1, 0.3, 0.5, 0.7, 1],train_erreur_c,'+-',color=color)\n",
    "ax2.tick_params(axis='y', labelcolor=color)\n",
    "\n",
    "fig.tight_layout()\n",
    "plt.show()"
   ]
  },
  {
   "cell_type": "code",
   "execution_count": null,
   "metadata": {},
   "outputs": [],
   "source": [
    "fig, ax1 = plt.subplots()\n",
    "\n",
    "color = 'tab:blue'\n",
    "ax1.set_xlabel('tolerance')\n",
    "ax1.set_ylabel('precision test', color=color)\n",
    "ax1.plot([0.1, 0.3, 0.5, 0.7, 1],precisions_c,'+-',color=color)\n",
    "ax1.tick_params(axis='y', labelcolor=color)\n",
    "\n",
    "ax2 = ax1.twinx()\n",
    "\n",
    "color = 'tab:red'\n",
    "ax2.set_ylabel('execution time', color=color)\n",
    "ax2.plot([0.1, 0.3, 0.5, 0.7, 1],temps_c,'+-',color=color)\n",
    "ax2.tick_params(axis='y', labelcolor=color)\n",
    "\n",
    "fig.tight_layout()\n",
    "plt.show()"
   ]
  },
  {
   "cell_type": "code",
   "execution_count": null,
   "metadata": {},
   "outputs": [],
   "source": [
    "fig, ax1 = plt.subplots()\n",
    "\n",
    "color = 'tab:blue'\n",
    "ax1.set_xlabel('tolerance')\n",
    "ax1.set_ylabel('precision test', color=color)\n",
    "ax1.plot([0.1, 0.3, 0.5, 0.7, 1],precisions_c,'+-',color=color)\n",
    "ax1.tick_params(axis='y', labelcolor=color)\n",
    "\n",
    "ax2 = ax1.twinx()\n",
    "\n",
    "color = 'tab:red'\n",
    "ax2.set_ylabel('execution time', color=color)\n",
    "ax2.plot([0.1, 0.3, 0.5, 0.7, 1],tt_c,'+-',color=color)\n",
    "ax2.tick_params(axis='y', labelcolor=color)\n",
    "\n",
    "fig.tight_layout()\n",
    "plt.show()"
   ]
  },
  {
   "cell_type": "code",
   "execution_count": null,
   "metadata": {},
   "outputs": [],
   "source": [
    "fig, ax1 = plt.subplots()\n",
    "\n",
    "color = 'tab:blue'\n",
    "ax1.set_xlabel('tolerance')\n",
    "ax1.set_ylabel('precision test', color=color)\n",
    "ax1.plot([0.1, 0.3, 0.5, 0.7, 1],precisions_c,'+-',color=color)\n",
    "ax1.tick_params(axis='y', labelcolor=color)\n",
    "\n",
    "ax2 = ax1.twinx()\n",
    "\n",
    "color = 'tab:red'\n",
    "ax2.set_ylabel('precision train', color=color)\n",
    "ax2.plot([0.1, 0.3, 0.5, 0.7, 1],train_precisions_c,'+-',color=color)\n",
    "ax2.tick_params(axis='y', labelcolor=color)\n",
    "\n",
    "fig.tight_layout()\n",
    "plt.show()"
   ]
  },
  {
   "cell_type": "code",
   "execution_count": null,
   "metadata": {},
   "outputs": [],
   "source": [
    "fig, ax1 = plt.subplots()\n",
    "\n",
    "color = 'tab:blue'\n",
    "ax1.set_xlabel('tolerance')\n",
    "ax1.set_ylabel('precision', color=color)\n",
    "ax1.plot([0.1, 0.3, 0.5, 0.7, 1],precisions_c,'+-',color=color)\n",
    "ax1.tick_params(axis='y', labelcolor=color)\n",
    "\n",
    "ax2 = ax1.twinx()\n",
    "\n",
    "color = 'tab:red'\n",
    "ax2.set_ylabel('rappel', color=color)\n",
    "ax2.plot([0.1, 0.3, 0.5, 0.7, 1],rappel_c,'+-',color=color)\n",
    "ax2.tick_params(axis='y', labelcolor=color)\n",
    "\n",
    "fig.tight_layout()\n",
    "plt.show()"
   ]
  },
  {
   "cell_type": "code",
   "execution_count": null,
   "metadata": {},
   "outputs": [],
   "source": [
    "plt.plot([0.1, 0.3, 0.5, 0.7, 1],temps_c,'+-')\n",
    "plt.ylabel('training time')\n",
    "plt.xlabel('tolerance')\n",
    "plt.show()"
   ]
  },
  {
   "cell_type": "code",
   "execution_count": null,
   "metadata": {},
   "outputs": [],
   "source": [
    "plt.plot([0.1, 0.3, 0.5, 0.7, 1],tt_c,'+-')\n",
    "plt.ylabel('training time')\n",
    "plt.xlabel('tolerance')\n",
    "plt.show()"
   ]
  },
  {
   "cell_type": "code",
   "execution_count": null,
   "metadata": {},
   "outputs": [],
   "source": [
    "plt.plot([0.1, 0.3, 0.5, 0.7, 1],erreur_c,'+-')\n",
    "plt.ylabel('erreur')\n",
    "plt.xlabel('tolerance')\n",
    "plt.show()"
   ]
  }
 ],
 "metadata": {
  "kernelspec": {
   "display_name": "Python 3",
   "language": "python",
   "name": "python3"
  },
  "language_info": {
   "codemirror_mode": {
    "name": "ipython",
    "version": 3
   },
   "file_extension": ".py",
   "mimetype": "text/x-python",
   "name": "python",
   "nbconvert_exporter": "python",
   "pygments_lexer": "ipython3",
   "version": "3.7.3"
  }
 },
 "nbformat": 4,
 "nbformat_minor": 2
}
