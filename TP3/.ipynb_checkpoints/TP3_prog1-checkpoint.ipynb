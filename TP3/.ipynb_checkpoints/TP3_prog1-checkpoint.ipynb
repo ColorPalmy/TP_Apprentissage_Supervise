{
 "cells": [
  {
   "cell_type": "code",
   "execution_count": 1,
   "metadata": {},
   "outputs": [],
   "source": [
    "from sklearn.datasets import fetch_openml\n",
    "from sklearn.model_selection import train_test_split\n",
    "from sklearn.metrics import precision_score, recall_score, zero_one_loss, confusion_matrix\n",
    "from sklearn.svm import SVC\n",
    "import numpy as np\n",
    "import matplotlib.pyplot as plt\n",
    "import time"
   ]
  },
  {
   "cell_type": "code",
   "execution_count": 2,
   "metadata": {},
   "outputs": [],
   "source": [
    "mnist = fetch_openml('mnist_784')"
   ]
  },
  {
   "cell_type": "code",
   "execution_count": 7,
   "metadata": {},
   "outputs": [
    {
     "name": "stdout",
     "output_type": "stream",
     "text": [
      "(3500, 784)\n",
      "(3500,)\n"
     ]
    },
    {
     "name": "stderr",
     "output_type": "stream",
     "text": [
      "C:\\Users\\linam\\Anaconda3\\lib\\site-packages\\sklearn\\model_selection\\_split.py:2179: FutureWarning: From version 0.21, test_size will always complement train_size unless both are specified.\n",
      "  FutureWarning)\n"
     ]
    }
   ],
   "source": [
    "#tableau de 5000 valeurs aléatoires entre à et 70000\n",
    "index = np.random.randint(70000, size=5000)\n",
    "#échantillon de 5000 données de Mnist\n",
    "data = mnist.data[index]\n",
    "#étiquettes correspondant aux 5000 données échantillons\n",
    "target = mnist.target[index]\n",
    "#division de la base en données d'apprentissage (70%) et de test (30%)\n",
    "datatrain, datatest, targettrain, targettest = train_test_split(data, target,train_size=0.70)\n",
    "#data = mnist.data\n",
    "#target = mnist.target\n",
    "#division de la base en données d'apprentissage (70%) et de test\n",
    "#datatrain, datatest, targettrain, targettest = train_test_split(data, target,train_size=0.70)\n",
    "print(datatrain.shape)\n",
    "print(targettrain.shape)"
   ]
  },
  {
   "cell_type": "code",
   "execution_count": 4,
   "metadata": {},
   "outputs": [
    {
     "data": {
      "text/plain": [
       "0.902"
      ]
     },
     "execution_count": 4,
     "metadata": {},
     "output_type": "execute_result"
    }
   ],
   "source": [
    "# SVM avec noyau linéaire\n",
    "clsvm = SVC(kernel='linear')\n",
    "clsvm.fit(datatrain,targettrain)\n",
    "clsvm.score(datatest,targettest)"
   ]
  },
  {
   "cell_type": "code",
   "execution_count": 8,
   "metadata": {},
   "outputs": [
    {
     "name": "stdout",
     "output_type": "stream",
     "text": [
      "precision = 0.8926666666666667 precision apprentissage = 1.0 rappel = 0.8926666666666667 erreur = 0.10733333333333328 temps = 4.71875 time = 4.7341132164001465 noyau = linear\n",
      "[[134   0   0   0   1   1   0   0   1   0]\n",
      " [  0 171   0   2   1   0   0   1   2   0]\n",
      " [  1   3 141   1   7   1   4   0   2   0]\n",
      " [  1   2   2 115   0   7   0   0   2   0]\n",
      " [  0   2   1   0 124   0   2   2   1  11]\n",
      " [  4   3   4   4   0 123   3   0   3   1]\n",
      " [  0   0   3   0   1   2 135   0   0   0]\n",
      " [  1   1   3   0   3   0   0 146   0   1]\n",
      " [  2   2   5   6   2   7   1   0 113   2]\n",
      " [  3   1   2   2  10   2   0  15   1 137]]\n"
     ]
    },
    {
     "name": "stderr",
     "output_type": "stream",
     "text": [
      "C:\\Users\\linam\\Anaconda3\\lib\\site-packages\\sklearn\\svm\\base.py:196: FutureWarning: The default value of gamma will change from 'auto' to 'scale' in version 0.22 to account better for unscaled features. Set gamma explicitly to 'auto' or 'scale' to avoid this warning.\n",
      "  \"avoid this warning.\", FutureWarning)\n"
     ]
    },
    {
     "name": "stdout",
     "output_type": "stream",
     "text": [
      "precision = 0.9353333333333333 precision apprentissage = 1.0 rappel = 0.9353333333333333 erreur = 0.06466666666666665 temps = 5.15625 time = 5.264961242675781 noyau = poly\n",
      "[[132   2   0   0   0   3   0   0   0   0]\n",
      " [  0 171   0   1   1   0   0   1   3   0]\n",
      " [  0   5 148   1   1   2   0   1   2   0]\n",
      " [  1   0   3 121   0   3   0   0   0   1]\n",
      " [  1   2   0   0 129   0   2   2   1   6]\n",
      " [  0   0   2   1   0 135   4   0   1   2]\n",
      " [  0   1   0   0   0   4 136   0   0   0]\n",
      " [  0   1   1   0   0   0   0 152   0   1]\n",
      " [  0   2   2   3   3   2   0   0 127   1]\n",
      " [  3   2   2   4   2   0   0   8   0 152]]\n"
     ]
    },
    {
     "name": "stderr",
     "output_type": "stream",
     "text": [
      "C:\\Users\\linam\\Anaconda3\\lib\\site-packages\\sklearn\\svm\\base.py:196: FutureWarning: The default value of gamma will change from 'auto' to 'scale' in version 0.22 to account better for unscaled features. Set gamma explicitly to 'auto' or 'scale' to avoid this warning.\n",
      "  \"avoid this warning.\", FutureWarning)\n"
     ]
    },
    {
     "name": "stdout",
     "output_type": "stream",
     "text": [
      "precision = 0.162 precision apprentissage = 1.0 rappel = 0.162 erreur = 0.838 temps = 28.65625 time = 29.44678282737732 noyau = rbf\n",
      "[[  5 132   0   0   0   0   0   0   0   0]\n",
      " [  0 177   0   0   0   0   0   0   0   0]\n",
      " [  0 147  13   0   0   0   0   0   0   0]\n",
      " [  0 121   0   8   0   0   0   0   0   0]\n",
      " [  0 137   0   0   6   0   0   0   0   0]\n",
      " [  0 136   0   0   0   9   0   0   0   0]\n",
      " [  0 136   0   0   0   0   5   0   0   0]\n",
      " [  0 150   0   0   0   0   0   5   0   0]\n",
      " [  0 132   0   0   0   0   0   0   8   0]\n",
      " [  0 166   0   0   0   0   0   0   0   7]]\n"
     ]
    },
    {
     "name": "stderr",
     "output_type": "stream",
     "text": [
      "C:\\Users\\linam\\Anaconda3\\lib\\site-packages\\sklearn\\svm\\base.py:196: FutureWarning: The default value of gamma will change from 'auto' to 'scale' in version 0.22 to account better for unscaled features. Set gamma explicitly to 'auto' or 'scale' to avoid this warning.\n",
      "  \"avoid this warning.\", FutureWarning)\n"
     ]
    },
    {
     "name": "stdout",
     "output_type": "stream",
     "text": [
      "precision = 0.118 precision apprentissage = 0.12314285714285714 rappel = 0.118 erreur = 0.882 temps = 25.25 time = 25.81449842453003 noyau = sigmoid\n",
      "[[  0 137   0   0   0   0   0   0   0   0]\n",
      " [  0 177   0   0   0   0   0   0   0   0]\n",
      " [  0 160   0   0   0   0   0   0   0   0]\n",
      " [  0 129   0   0   0   0   0   0   0   0]\n",
      " [  0 143   0   0   0   0   0   0   0   0]\n",
      " [  0 145   0   0   0   0   0   0   0   0]\n",
      " [  0 141   0   0   0   0   0   0   0   0]\n",
      " [  0 155   0   0   0   0   0   0   0   0]\n",
      " [  0 140   0   0   0   0   0   0   0   0]\n",
      " [  0 173   0   0   0   0   0   0   0   0]]\n"
     ]
    }
   ],
   "source": [
    "precisions_kernel = []\n",
    "rappel_kernel = []\n",
    "temps_kernel = []\n",
    "tt_kernel = []\n",
    "erreur_kernel = []\n",
    "train_precisions_kernel = []\n",
    "for n in [\"linear\", \"poly\", \"rbf\", \"sigmoid\"]:\n",
    "    clsvm = SVC(kernel=n)\n",
    "    st = time.time()\n",
    "    start_time = time.process_time()\n",
    "    clsvm.fit(datatrain,targettrain)\n",
    "    elapsed = time.process_time()-start_time\n",
    "    duration = time.time()- st\n",
    "    testpred = clsvm.predict(datatest)\n",
    "    prec = clsvm.score(datatest,targettest)\n",
    "    train_prec = clsvm.score(datatrain,targettrain)\n",
    "    rap = recall_score(targettest,testpred,average='micro')\n",
    "    err = zero_one_loss(targettest,testpred)\n",
    "    precisions_kernel.append(prec)\n",
    "    train_precisions_kernel.append(train_prec)\n",
    "    rappel_kernel.append(rap)\n",
    "    temps_kernel.append(elapsed)\n",
    "    tt_kernel.append(duration)\n",
    "    erreur_kernel.append(err)\n",
    "    print(\"precision =\",prec,\"precision apprentissage =\",train_prec,\"rappel =\",rap,\"erreur =\",err,\"temps =\",elapsed, \"time =\",duration,\"noyau =\",n)\n",
    "    cm = confusion_matrix(targettest,testpred)\n",
    "    print(cm)"
   ]
  },
  {
   "cell_type": "code",
   "execution_count": 9,
   "metadata": {},
   "outputs": [
    {
     "data": {
      "image/png": "[encoded data removed]",
      "text/plain": [
       "<Figure size 432x288 with 2 Axes>"
      ]
     },
     "metadata": {
      "needs_background": "light"
     },
     "output_type": "display_data"
    }
   ],
   "source": [
    "fig, ax1 = plt.subplots()\n",
    "\n",
    "color = 'tab:blue'\n",
    "ax1.set_xlabel('kernel')\n",
    "ax1.set_ylabel('precision', color=color)\n",
    "ax1.plot([\"linear\", \"poly\", \"rbf\", \"sigmoid\"],precisions_kernel,'+-',color=color)\n",
    "ax1.tick_params(axis='y', labelcolor=color)\n",
    "\n",
    "ax2 = ax1.twinx()\n",
    "\n",
    "color = 'tab:red'\n",
    "ax2.set_ylabel('execution time', color=color)\n",
    "ax2.plot([\"linear\", \"poly\", \"rbf\", \"sigmoid\"],temps_kernel,'+-',color=color)\n",
    "ax2.tick_params(axis='y', labelcolor=color)\n",
    "\n",
    "fig.tight_layout()\n",
    "plt.show()"
   ]
  },
  {
   "cell_type": "code",
   "execution_count": 10,
   "metadata": {},
   "outputs": [
    {
     "data": {
      "image/png": "[encoded data removed]",
      "text/plain": [
       "<Figure size 432x288 with 2 Axes>"
      ]
     },
     "metadata": {
      "needs_background": "light"
     },
     "output_type": "display_data"
    }
   ],
   "source": [
    "fig, ax1 = plt.subplots()\n",
    "\n",
    "color = 'tab:blue'\n",
    "ax1.set_xlabel('kernel')\n",
    "ax1.set_ylabel('precision', color=color)\n",
    "ax1.plot([\"linear\", \"poly\", \"rbf\", \"sigmoid\"],precisions_kernel,'+-',color=color)\n",
    "ax1.tick_params(axis='y', labelcolor=color)\n",
    "\n",
    "ax2 = ax1.twinx()\n",
    "\n",
    "color = 'tab:red'\n",
    "ax2.set_ylabel('execution time', color=color)\n",
    "ax2.plot([\"linear\", \"poly\", \"rbf\", \"sigmoid\"],tt_kernel,'+-',color=color)\n",
    "ax2.tick_params(axis='y', labelcolor=color)\n",
    "\n",
    "fig.tight_layout()\n",
    "plt.show()"
   ]
  },
  {
   "cell_type": "code",
   "execution_count": 11,
   "metadata": {},
   "outputs": [
    {
     "data": {
      "image/png": "[encoded data removed]",
      "text/plain": [
       "<Figure size 432x288 with 1 Axes>"
      ]
     },
     "metadata": {
      "needs_background": "light"
     },
     "output_type": "display_data"
    }
   ],
   "source": [
    "plt.plot([\"linear\", \"poly\", \"rbf\", \"sigmoid\"],temps_kernel,'+-')\n",
    "plt.ylabel('training time')\n",
    "plt.xlabel('kernel')\n",
    "plt.show()"
   ]
  },
  {
   "cell_type": "code",
   "execution_count": 12,
   "metadata": {},
   "outputs": [
    {
     "data": {
      "image/png": "[encoded data removed]",
      "text/plain": [
       "<Figure size 432x288 with 1 Axes>"
      ]
     },
     "metadata": {
      "needs_background": "light"
     },
     "output_type": "display_data"
    }
   ],
   "source": [
    "plt.plot([\"linear\", \"poly\", \"rbf\", \"sigmoid\"],tt_kernel,'+-')\n",
    "plt.ylabel('training time')\n",
    "plt.xlabel('kernel')\n",
    "plt.show()"
   ]
  },
  {
   "cell_type": "code",
   "execution_count": 13,
   "metadata": {},
   "outputs": [
    {
     "data": {
      "image/png": "[encoded data removed]",
      "text/plain": [
       "<Figure size 432x288 with 1 Axes>"
      ]
     },
     "metadata": {
      "needs_background": "light"
     },
     "output_type": "display_data"
    }
   ],
   "source": [
    "plt.plot([\"linear\", \"poly\", \"rbf\", \"sigmoid\"],erreur_kernel,'+-')\n",
    "plt.ylabel('error')\n",
    "plt.xlabel('kernel')\n",
    "plt.show()"
   ]
  },
  {
   "cell_type": "code",
   "execution_count": 16,
   "metadata": {},
   "outputs": [
    {
     "data": {
      "image/png": "[encoded data removed]",
      "text/plain": [
       "<Figure size 432x288 with 2 Axes>"
      ]
     },
     "metadata": {
      "needs_background": "light"
     },
     "output_type": "display_data"
    }
   ],
   "source": [
    "fig, ax1 = plt.subplots()\n",
    "\n",
    "color = 'tab:blue'\n",
    "ax1.set_xlabel('kernel')\n",
    "ax1.set_ylabel('precision', color=color)\n",
    "ax1.plot([\"linear\", \"poly\", \"rbf\", \"sigmoid\"],precisions_kernel,'+-',color=color)\n",
    "ax1.tick_params(axis='y', labelcolor=color)\n",
    "\n",
    "ax2 = ax1.twinx()\n",
    "\n",
    "color = 'tab:red'\n",
    "ax2.set_ylabel('rappel', color=color)\n",
    "ax2.plot([\"linear\", \"poly\", \"rbf\", \"sigmoid\"],rappel_kernel,'+-',color=color)\n",
    "ax2.tick_params(axis='y', labelcolor=color)\n",
    "\n",
    "fig.tight_layout()\n",
    "plt.show()"
   ]
  },
  {
   "cell_type": "code",
   "execution_count": 18,
   "metadata": {},
   "outputs": [
    {
     "name": "stderr",
     "output_type": "stream",
     "text": [
      "C:\\Users\\linam\\Anaconda3\\lib\\site-packages\\sklearn\\svm\\base.py:196: FutureWarning: The default value of gamma will change from 'auto' to 'scale' in version 0.22 to account better for unscaled features. Set gamma explicitly to 'auto' or 'scale' to avoid this warning.\n",
      "  \"avoid this warning.\", FutureWarning)\n"
     ]
    },
    {
     "name": "stdout",
     "output_type": "stream",
     "text": [
      "precision = 0.118 precision apprentissage = 0.12314285714285714 rappel = 0.118 erreur = 0.882 temps = 29.953125 time = 31.20880627632141 tolérance aux erreurs = 0.1\n"
     ]
    },
    {
     "ename": "TypeError",
     "evalue": "Singleton array 0.118 cannot be considered a valid collection.",
     "output_type": "error",
     "traceback": [
      "\u001b[1;31m---------------------------------------------------------------------------\u001b[0m",
      "\u001b[1;31mTypeError\u001b[0m                                 Traceback (most recent call last)",
      "\u001b[1;32m<ipython-input-18-f5d18428fab4>\u001b[0m in \u001b[0;36m<module>\u001b[1;34m\u001b[0m\n\u001b[0;32m     28\u001b[0m     \u001b[0mtrain_erreur_c\u001b[0m\u001b[1;33m.\u001b[0m\u001b[0mappend\u001b[0m\u001b[1;33m(\u001b[0m\u001b[0mtrain_err\u001b[0m\u001b[1;33m)\u001b[0m\u001b[1;33m\u001b[0m\u001b[1;33m\u001b[0m\u001b[0m\n\u001b[0;32m     29\u001b[0m     \u001b[0mprint\u001b[0m\u001b[1;33m(\u001b[0m\u001b[1;34m\"precision =\"\u001b[0m\u001b[1;33m,\u001b[0m\u001b[0mprec\u001b[0m\u001b[1;33m,\u001b[0m\u001b[1;34m\"precision apprentissage =\"\u001b[0m\u001b[1;33m,\u001b[0m\u001b[0mtrain_prec\u001b[0m\u001b[1;33m,\u001b[0m\u001b[1;34m\"rappel =\"\u001b[0m\u001b[1;33m,\u001b[0m\u001b[0mrap\u001b[0m\u001b[1;33m,\u001b[0m\u001b[1;34m\"erreur =\"\u001b[0m\u001b[1;33m,\u001b[0m\u001b[0merr\u001b[0m\u001b[1;33m,\u001b[0m\u001b[1;34m\"temps =\"\u001b[0m\u001b[1;33m,\u001b[0m\u001b[0melapsed\u001b[0m\u001b[1;33m,\u001b[0m\u001b[1;34m\"time =\"\u001b[0m\u001b[1;33m,\u001b[0m\u001b[0mduration\u001b[0m\u001b[1;33m,\u001b[0m\u001b[1;34m\"tolérance aux erreurs =\"\u001b[0m\u001b[1;33m,\u001b[0m\u001b[0mtol\u001b[0m\u001b[1;33m)\u001b[0m\u001b[1;33m\u001b[0m\u001b[1;33m\u001b[0m\u001b[0m\n\u001b[1;32m---> 30\u001b[1;33m     \u001b[0mcm\u001b[0m \u001b[1;33m=\u001b[0m \u001b[0mconfusion_matrix\u001b[0m\u001b[1;33m(\u001b[0m\u001b[0mtargettest\u001b[0m\u001b[1;33m,\u001b[0m\u001b[0mprec\u001b[0m\u001b[1;33m)\u001b[0m\u001b[1;33m\u001b[0m\u001b[1;33m\u001b[0m\u001b[0m\n\u001b[0m\u001b[0;32m     31\u001b[0m     \u001b[0mprint\u001b[0m\u001b[1;33m(\u001b[0m\u001b[0mcm\u001b[0m\u001b[1;33m)\u001b[0m\u001b[1;33m\u001b[0m\u001b[1;33m\u001b[0m\u001b[0m\n",
      "\u001b[1;32m~\\Anaconda3\\lib\\site-packages\\sklearn\\metrics\\classification.py\u001b[0m in \u001b[0;36mconfusion_matrix\u001b[1;34m(y_true, y_pred, labels, sample_weight)\u001b[0m\n\u001b[0;32m    251\u001b[0m \u001b[1;33m\u001b[0m\u001b[0m\n\u001b[0;32m    252\u001b[0m     \"\"\"\n\u001b[1;32m--> 253\u001b[1;33m     \u001b[0my_type\u001b[0m\u001b[1;33m,\u001b[0m \u001b[0my_true\u001b[0m\u001b[1;33m,\u001b[0m \u001b[0my_pred\u001b[0m \u001b[1;33m=\u001b[0m \u001b[0m_check_targets\u001b[0m\u001b[1;33m(\u001b[0m\u001b[0my_true\u001b[0m\u001b[1;33m,\u001b[0m \u001b[0my_pred\u001b[0m\u001b[1;33m)\u001b[0m\u001b[1;33m\u001b[0m\u001b[1;33m\u001b[0m\u001b[0m\n\u001b[0m\u001b[0;32m    254\u001b[0m     \u001b[1;32mif\u001b[0m \u001b[0my_type\u001b[0m \u001b[1;32mnot\u001b[0m \u001b[1;32min\u001b[0m \u001b[1;33m(\u001b[0m\u001b[1;34m\"binary\"\u001b[0m\u001b[1;33m,\u001b[0m \u001b[1;34m\"multiclass\"\u001b[0m\u001b[1;33m)\u001b[0m\u001b[1;33m:\u001b[0m\u001b[1;33m\u001b[0m\u001b[1;33m\u001b[0m\u001b[0m\n\u001b[0;32m    255\u001b[0m         \u001b[1;32mraise\u001b[0m \u001b[0mValueError\u001b[0m\u001b[1;33m(\u001b[0m\u001b[1;34m\"%s is not supported\"\u001b[0m \u001b[1;33m%\u001b[0m \u001b[0my_type\u001b[0m\u001b[1;33m)\u001b[0m\u001b[1;33m\u001b[0m\u001b[1;33m\u001b[0m\u001b[0m\n",
      "\u001b[1;32m~\\Anaconda3\\lib\\site-packages\\sklearn\\metrics\\classification.py\u001b[0m in \u001b[0;36m_check_targets\u001b[1;34m(y_true, y_pred)\u001b[0m\n\u001b[0;32m     69\u001b[0m     \u001b[0my_pred\u001b[0m \u001b[1;33m:\u001b[0m \u001b[0marray\u001b[0m \u001b[1;32mor\u001b[0m \u001b[0mindicator\u001b[0m \u001b[0mmatrix\u001b[0m\u001b[1;33m\u001b[0m\u001b[1;33m\u001b[0m\u001b[0m\n\u001b[0;32m     70\u001b[0m     \"\"\"\n\u001b[1;32m---> 71\u001b[1;33m     \u001b[0mcheck_consistent_length\u001b[0m\u001b[1;33m(\u001b[0m\u001b[0my_true\u001b[0m\u001b[1;33m,\u001b[0m \u001b[0my_pred\u001b[0m\u001b[1;33m)\u001b[0m\u001b[1;33m\u001b[0m\u001b[1;33m\u001b[0m\u001b[0m\n\u001b[0m\u001b[0;32m     72\u001b[0m     \u001b[0mtype_true\u001b[0m \u001b[1;33m=\u001b[0m \u001b[0mtype_of_target\u001b[0m\u001b[1;33m(\u001b[0m\u001b[0my_true\u001b[0m\u001b[1;33m)\u001b[0m\u001b[1;33m\u001b[0m\u001b[1;33m\u001b[0m\u001b[0m\n\u001b[0;32m     73\u001b[0m     \u001b[0mtype_pred\u001b[0m \u001b[1;33m=\u001b[0m \u001b[0mtype_of_target\u001b[0m\u001b[1;33m(\u001b[0m\u001b[0my_pred\u001b[0m\u001b[1;33m)\u001b[0m\u001b[1;33m\u001b[0m\u001b[1;33m\u001b[0m\u001b[0m\n",
      "\u001b[1;32m~\\Anaconda3\\lib\\site-packages\\sklearn\\utils\\validation.py\u001b[0m in \u001b[0;36mcheck_consistent_length\u001b[1;34m(*arrays)\u001b[0m\n\u001b[0;32m    229\u001b[0m     \"\"\"\n\u001b[0;32m    230\u001b[0m \u001b[1;33m\u001b[0m\u001b[0m\n\u001b[1;32m--> 231\u001b[1;33m     \u001b[0mlengths\u001b[0m \u001b[1;33m=\u001b[0m \u001b[1;33m[\u001b[0m\u001b[0m_num_samples\u001b[0m\u001b[1;33m(\u001b[0m\u001b[0mX\u001b[0m\u001b[1;33m)\u001b[0m \u001b[1;32mfor\u001b[0m \u001b[0mX\u001b[0m \u001b[1;32min\u001b[0m \u001b[0marrays\u001b[0m \u001b[1;32mif\u001b[0m \u001b[0mX\u001b[0m \u001b[1;32mis\u001b[0m \u001b[1;32mnot\u001b[0m \u001b[1;32mNone\u001b[0m\u001b[1;33m]\u001b[0m\u001b[1;33m\u001b[0m\u001b[1;33m\u001b[0m\u001b[0m\n\u001b[0m\u001b[0;32m    232\u001b[0m     \u001b[0muniques\u001b[0m \u001b[1;33m=\u001b[0m \u001b[0mnp\u001b[0m\u001b[1;33m.\u001b[0m\u001b[0munique\u001b[0m\u001b[1;33m(\u001b[0m\u001b[0mlengths\u001b[0m\u001b[1;33m)\u001b[0m\u001b[1;33m\u001b[0m\u001b[1;33m\u001b[0m\u001b[0m\n\u001b[0;32m    233\u001b[0m     \u001b[1;32mif\u001b[0m \u001b[0mlen\u001b[0m\u001b[1;33m(\u001b[0m\u001b[0muniques\u001b[0m\u001b[1;33m)\u001b[0m \u001b[1;33m>\u001b[0m \u001b[1;36m1\u001b[0m\u001b[1;33m:\u001b[0m\u001b[1;33m\u001b[0m\u001b[1;33m\u001b[0m\u001b[0m\n",
      "\u001b[1;32m~\\Anaconda3\\lib\\site-packages\\sklearn\\utils\\validation.py\u001b[0m in \u001b[0;36m<listcomp>\u001b[1;34m(.0)\u001b[0m\n\u001b[0;32m    229\u001b[0m     \"\"\"\n\u001b[0;32m    230\u001b[0m \u001b[1;33m\u001b[0m\u001b[0m\n\u001b[1;32m--> 231\u001b[1;33m     \u001b[0mlengths\u001b[0m \u001b[1;33m=\u001b[0m \u001b[1;33m[\u001b[0m\u001b[0m_num_samples\u001b[0m\u001b[1;33m(\u001b[0m\u001b[0mX\u001b[0m\u001b[1;33m)\u001b[0m \u001b[1;32mfor\u001b[0m \u001b[0mX\u001b[0m \u001b[1;32min\u001b[0m \u001b[0marrays\u001b[0m \u001b[1;32mif\u001b[0m \u001b[0mX\u001b[0m \u001b[1;32mis\u001b[0m \u001b[1;32mnot\u001b[0m \u001b[1;32mNone\u001b[0m\u001b[1;33m]\u001b[0m\u001b[1;33m\u001b[0m\u001b[1;33m\u001b[0m\u001b[0m\n\u001b[0m\u001b[0;32m    232\u001b[0m     \u001b[0muniques\u001b[0m \u001b[1;33m=\u001b[0m \u001b[0mnp\u001b[0m\u001b[1;33m.\u001b[0m\u001b[0munique\u001b[0m\u001b[1;33m(\u001b[0m\u001b[0mlengths\u001b[0m\u001b[1;33m)\u001b[0m\u001b[1;33m\u001b[0m\u001b[1;33m\u001b[0m\u001b[0m\n\u001b[0;32m    233\u001b[0m     \u001b[1;32mif\u001b[0m \u001b[0mlen\u001b[0m\u001b[1;33m(\u001b[0m\u001b[0muniques\u001b[0m\u001b[1;33m)\u001b[0m \u001b[1;33m>\u001b[0m \u001b[1;36m1\u001b[0m\u001b[1;33m:\u001b[0m\u001b[1;33m\u001b[0m\u001b[1;33m\u001b[0m\u001b[0m\n",
      "\u001b[1;32m~\\Anaconda3\\lib\\site-packages\\sklearn\\utils\\validation.py\u001b[0m in \u001b[0;36m_num_samples\u001b[1;34m(x)\u001b[0m\n\u001b[0;32m    140\u001b[0m         \u001b[1;32mif\u001b[0m \u001b[0mlen\u001b[0m\u001b[1;33m(\u001b[0m\u001b[0mx\u001b[0m\u001b[1;33m.\u001b[0m\u001b[0mshape\u001b[0m\u001b[1;33m)\u001b[0m \u001b[1;33m==\u001b[0m \u001b[1;36m0\u001b[0m\u001b[1;33m:\u001b[0m\u001b[1;33m\u001b[0m\u001b[1;33m\u001b[0m\u001b[0m\n\u001b[0;32m    141\u001b[0m             raise TypeError(\"Singleton array %r cannot be considered\"\n\u001b[1;32m--> 142\u001b[1;33m                             \" a valid collection.\" % x)\n\u001b[0m\u001b[0;32m    143\u001b[0m         \u001b[1;31m# Check that shape is returning an integer or default to len\u001b[0m\u001b[1;33m\u001b[0m\u001b[1;33m\u001b[0m\u001b[1;33m\u001b[0m\u001b[0m\n\u001b[0;32m    144\u001b[0m         \u001b[1;31m# Dask dataframes may not return numeric shape[0] value\u001b[0m\u001b[1;33m\u001b[0m\u001b[1;33m\u001b[0m\u001b[1;33m\u001b[0m\u001b[0m\n",
      "\u001b[1;31mTypeError\u001b[0m: Singleton array 0.118 cannot be considered a valid collection."
     ]
    }
   ],
   "source": [
    "precisions_c = []\n",
    "rappel_c = []\n",
    "temps_c = []\n",
    "tt_c = []\n",
    "erreur_c = []\n",
    "train_precisions_c = []\n",
    "train_erreur_c = []\n",
    "for tol in [0.1, 0.3, 0.5, 0.7, 1]:\n",
    "    clsvm = SVC(C=tol)\n",
    "    st = time.time()\n",
    "    start_time = time.process_time()\n",
    "    clsvm.fit(datatrain,targettrain)\n",
    "    elapsed = time.process_time()-start_time\n",
    "    duration = time.time()-st\n",
    "    testpred = clsvm.predict(datatest)\n",
    "    trainpred = clsvm.predict(datatrain)\n",
    "    prec = clsvm.score(datatest,targettest)\n",
    "    train_prec = clsvm.score(datatrain,targettrain)\n",
    "    rap = recall_score(targettest,testpred,average='micro')\n",
    "    err = zero_one_loss(targettest,testpred)\n",
    "    train_err = zero_one_loss(targettrain,trainpred)\n",
    "    precisions_c.append(prec)\n",
    "    train_precisions_c.append(train_prec)\n",
    "    rappel_c.append(rap)\n",
    "    temps_c.append(elapsed)\n",
    "    tt_c.append(duration)\n",
    "    erreur_c.append(err)\n",
    "    train_erreur_c.append(train_err)\n",
    "    print(\"precision =\",prec,\"precision apprentissage =\",train_prec,\"rappel =\",rap,\"erreur =\",err,\"temps =\",elapsed,\"time =\",duration,\"tolérance aux erreurs =\",tol)\n",
    "    cm = confusion_matrix(targettest,testpred)\n",
    "    print(cm)"
   ]
  },
  {
   "cell_type": "code",
   "execution_count": null,
   "metadata": {},
   "outputs": [],
   "source": [
    "fig, ax1 = plt.subplots()\n",
    "\n",
    "color = 'tab:blue'\n",
    "ax1.set_xlabel('tolerance')\n",
    "ax1.set_ylabel('erreur test', color=color)\n",
    "ax1.plot([0.1, 0.3, 0.5, 0.7, 1],erreur_c,'+-',color=color)\n",
    "ax1.tick_params(axis='y', labelcolor=color)\n",
    "\n",
    "ax2 = ax1.twinx()\n",
    "\n",
    "color = 'tab:red'\n",
    "ax2.set_ylabel('erreur train', color=color)\n",
    "ax2.plot([0.1, 0.3, 0.5, 0.7, 1],train_erreur_c,'+-',color=color)\n",
    "ax2.tick_params(axis='y', labelcolor=color)\n",
    "\n",
    "fig.tight_layout()\n",
    "plt.show()"
   ]
  },
  {
   "cell_type": "code",
   "execution_count": null,
   "metadata": {},
   "outputs": [],
   "source": [
    "fig, ax1 = plt.subplots()\n",
    "\n",
    "color = 'tab:blue'\n",
    "ax1.set_xlabel('tolerance')\n",
    "ax1.set_ylabel('precision test', color=color)\n",
    "ax1.plot([0.1, 0.3, 0.5, 0.7, 1],precisions_c,'+-',color=color)\n",
    "ax1.tick_params(axis='y', labelcolor=color)\n",
    "\n",
    "ax2 = ax1.twinx()\n",
    "\n",
    "color = 'tab:red'\n",
    "ax2.set_ylabel('execution time', color=color)\n",
    "ax2.plot([0.1, 0.3, 0.5, 0.7, 1],temps_c,'+-',color=color)\n",
    "ax2.tick_params(axis='y', labelcolor=color)\n",
    "\n",
    "fig.tight_layout()\n",
    "plt.show()"
   ]
  },
  {
   "cell_type": "code",
   "execution_count": null,
   "metadata": {},
   "outputs": [],
   "source": [
    "fig, ax1 = plt.subplots()\n",
    "\n",
    "color = 'tab:blue'\n",
    "ax1.set_xlabel('tolerance')\n",
    "ax1.set_ylabel('precision test', color=color)\n",
    "ax1.plot([0.1, 0.3, 0.5, 0.7, 1],precisions_c,'+-',color=color)\n",
    "ax1.tick_params(axis='y', labelcolor=color)\n",
    "\n",
    "ax2 = ax1.twinx()\n",
    "\n",
    "color = 'tab:red'\n",
    "ax2.set_ylabel('execution time', color=color)\n",
    "ax2.plot([0.1, 0.3, 0.5, 0.7, 1],tt_c,'+-',color=color)\n",
    "ax2.tick_params(axis='y', labelcolor=color)\n",
    "\n",
    "fig.tight_layout()\n",
    "plt.show()"
   ]
  },
  {
   "cell_type": "code",
   "execution_count": null,
   "metadata": {},
   "outputs": [],
   "source": [
    "fig, ax1 = plt.subplots()\n",
    "\n",
    "color = 'tab:blue'\n",
    "ax1.set_xlabel('tolerance')\n",
    "ax1.set_ylabel('precision test', color=color)\n",
    "ax1.plot([0.1, 0.3, 0.5, 0.7, 1],precisions_c,'+-',color=color)\n",
    "ax1.tick_params(axis='y', labelcolor=color)\n",
    "\n",
    "ax2 = ax1.twinx()\n",
    "\n",
    "color = 'tab:red'\n",
    "ax2.set_ylabel('precision train', color=color)\n",
    "ax2.plot([0.1, 0.3, 0.5, 0.7, 1],train_precisions_c,'+-',color=color)\n",
    "ax2.tick_params(axis='y', labelcolor=color)\n",
    "\n",
    "fig.tight_layout()\n",
    "plt.show()"
   ]
  },
  {
   "cell_type": "code",
   "execution_count": null,
   "metadata": {},
   "outputs": [],
   "source": [
    "fig, ax1 = plt.subplots()\n",
    "\n",
    "color = 'tab:blue'\n",
    "ax1.set_xlabel('tolerance')\n",
    "ax1.set_ylabel('precision', color=color)\n",
    "ax1.plot([0.1, 0.3, 0.5, 0.7, 1],precisions_c,'+-',color=color)\n",
    "ax1.tick_params(axis='y', labelcolor=color)\n",
    "\n",
    "ax2 = ax1.twinx()\n",
    "\n",
    "color = 'tab:red'\n",
    "ax2.set_ylabel('rappel', color=color)\n",
    "ax2.plot([0.1, 0.3, 0.5, 0.7, 1],rappel_c,'+-',color=color)\n",
    "ax2.tick_params(axis='y', labelcolor=color)\n",
    "\n",
    "fig.tight_layout()\n",
    "plt.show()"
   ]
  },
  {
   "cell_type": "code",
   "execution_count": null,
   "metadata": {},
   "outputs": [],
   "source": [
    "plt.plot([0.1, 0.3, 0.5, 0.7, 1],temps_c,'+-')\n",
    "plt.ylabel('training time')\n",
    "plt.xlabel('tolerance')\n",
    "plt.show()"
   ]
  },
  {
   "cell_type": "code",
   "execution_count": null,
   "metadata": {},
   "outputs": [],
   "source": [
    "plt.plot([0.1, 0.3, 0.5, 0.7, 1],tt_c,'+-')\n",
    "plt.ylabel('training time')\n",
    "plt.xlabel('tolerance')\n",
    "plt.show()"
   ]
  },
  {
   "cell_type": "code",
   "execution_count": null,
   "metadata": {},
   "outputs": [],
   "source": [
    "plt.plot([0.1, 0.3, 0.5, 0.7, 1],erreur_c,'+-')\n",
    "plt.ylabel('erreur')\n",
    "plt.xlabel('tolerance')\n",
    "plt.show()"
   ]
  }
 ],
 "metadata": {
  "kernelspec": {
   "display_name": "Python 3",
   "language": "python",
   "name": "python3"
  },
  "language_info": {
   "codemirror_mode": {
    "name": "ipython",
    "version": 3
   },
   "file_extension": ".py",
   "mimetype": "text/x-python",
   "name": "python",
   "nbconvert_exporter": "python",
   "pygments_lexer": "ipython3",
   "version": "3.7.3"
  }
 },
 "nbformat": 4,
 "nbformat_minor": 2
}
