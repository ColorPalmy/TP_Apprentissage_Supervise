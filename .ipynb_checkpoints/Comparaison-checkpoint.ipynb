{
 "cells": [
  {
   "cell_type": "code",
   "execution_count": 1,
   "metadata": {},
   "outputs": [],
   "source": [
    "from sklearn.datasets import fetch_openml\n",
    "from sklearn.model_selection import train_test_split\n",
    "import sklearn.neighbors as neighbors\n",
    "from sklearn.metrics import precision_score, recall_score, zero_one_loss, confusion_matrix\n",
    "import sklearn.neural_network as nn\n",
    "from sklearn.svm import SVC\n",
    "import numpy as np\n",
    "import matplotlib.pyplot as plt\n",
    "import time"
   ]
  },
  {
   "cell_type": "code",
   "execution_count": 2,
   "metadata": {},
   "outputs": [],
   "source": [
    "mnist = fetch_openml('mnist_784')"
   ]
  },
  {
   "cell_type": "code",
   "execution_count": null,
   "metadata": {},
   "outputs": [
    {
     "name": "stderr",
     "output_type": "stream",
     "text": [
      "C:\\Users\\linam\\Anaconda3\\lib\\site-packages\\sklearn\\model_selection\\_split.py:2179: FutureWarning: From version 0.21, test_size will always complement train_size unless both are specified.\n",
      "  FutureWarning)\n"
     ]
    },
    {
     "name": "stdout",
     "output_type": "stream",
     "text": [
      "size = 5000\n",
      "[[ 76   1   0   0   0   0   0   0   0   0]\n",
      " [  0 126   0   0   0   0   0   1   0   0]\n",
      " [  1   1  86   1   0   0   0   2   0   0]\n",
      " [  0   2   0  94   0   3   2   2   1   1]\n",
      " [  0   3   0   0 106   0   1   0   0   8]\n",
      " [  1   1   0   6   0  87   1   0   0   2]\n",
      " [  0   1   0   0   0   0 110   0   0   0]\n",
      " [  1   0   0   0   0   0   0  90   0   2]\n",
      " [  2   3   0   3   0   3   0   1  76   1]\n",
      " [  2   1   0   1   4   0   0   3   0  80]]\n",
      "KNN precision = 0.931 time = 0.1874535083770752\n",
      "[[ 74   0   1   0   0   0   1   0   0   1]\n",
      " [  0 125   1   0   0   0   0   0   1   0]\n",
      " [  0   0  86   1   1   0   2   1   0   0]\n",
      " [  1   1   1  87   0   9   0   1   3   2]\n",
      " [  1   0   1   0 110   0   0   0   1   5]\n",
      " [  0   0   2   2   0  88   1   0   5   0]\n",
      " [  2   0   1   0   1   0 106   0   1   0]\n",
      " [  1   0   0   0   0   0   0  88   0   4]\n",
      " [  1   1   1   4   0   1   2   0  77   2]\n",
      " [  1   0   0   2   3   0   0   1   1  83]]\n",
      "NN precision = 0.924 time = 29.860740900039673\n"
     ]
    },
    {
     "name": "stderr",
     "output_type": "stream",
     "text": [
      "C:\\Users\\linam\\Anaconda3\\lib\\site-packages\\sklearn\\svm\\base.py:196: FutureWarning: The default value of gamma will change from 'auto' to 'scale' in version 0.22 to account better for unscaled features. Set gamma explicitly to 'auto' or 'scale' to avoid this warning.\n",
      "  \"avoid this warning.\", FutureWarning)\n"
     ]
    },
    {
     "name": "stdout",
     "output_type": "stream",
     "text": [
      "[[ 72   0   2   0   0   1   0   0   2   0]\n",
      " [  0 127   0   0   0   0   0   0   0   0]\n",
      " [  0   0  89   0   0   0   1   1   0   0]\n",
      " [  2   1   1  91   0   3   1   1   4   1]\n",
      " [  0   0   0   0 112   0   1   0   1   4]\n",
      " [  0   1   0   0   0  92   0   0   4   1]\n",
      " [  2   1   2   0   0   0 106   0   0   0]\n",
      " [  0   1   0   0   0   0   0  92   0   0]\n",
      " [  0   3   2   3   0   2   0   1  78   0]\n",
      " [  0   1   0   2   3   0   0   0   1  84]]\n",
      "SVM precision = 0.943 time = 5.766043424606323\n"
     ]
    },
    {
     "name": "stderr",
     "output_type": "stream",
     "text": [
      "C:\\Users\\linam\\Anaconda3\\lib\\site-packages\\sklearn\\model_selection\\_split.py:2179: FutureWarning: From version 0.21, test_size will always complement train_size unless both are specified.\n",
      "  FutureWarning)\n"
     ]
    },
    {
     "name": "stdout",
     "output_type": "stream",
     "text": [
      "size = 10000\n",
      "[[187   0   0   0   0   0   1   0   1   0]\n",
      " [  0 205   1   0   0   0   0   0   0   0]\n",
      " [  7   5 193   2   0   0   0   3   3   0]\n",
      " [  1   1   2 183   0   6   0   0   1   1]\n",
      " [  0   4   0   0 168   0   3   1   0   7]\n",
      " [  3   2   0   4   2 175   3   0   1   3]\n",
      " [  3   2   0   0   0   5 197   0   0   0]\n",
      " [  0   0   1   0   1   0   0 222   0   4]\n",
      " [  0   5   2   6   2   2   1   1 172   5]\n",
      " [  1   2   0   2   8   1   0   0   0 176]]\n",
      "KNN precision = 0.939 time = 0.5467770099639893\n",
      "[[186   0   0   0   1   0   0   0   2   0]\n",
      " [  0 203   1   0   0   0   1   0   1   0]\n",
      " [  3   1 200   0   2   1   4   1   1   0]\n",
      " [  1   0   6 173   0   5   1   0   9   0]\n",
      " [  0   1   0   0 176   0   2   1   0   3]\n",
      " [  3   0   1   3   0 182   0   0   4   0]\n",
      " [  1   1   1   0   0   3 199   1   0   1]\n",
      " [  1   0   3   0   0   1   0 213   0  10]\n",
      " [  1   2   1   1   0   4   1   1 185   0]\n",
      " [  2   2   0   2   4   2   1   0   3 174]]\n",
      "NN precision = 0.9455 time = 22.842814207077026\n"
     ]
    },
    {
     "name": "stderr",
     "output_type": "stream",
     "text": [
      "C:\\Users\\linam\\Anaconda3\\lib\\site-packages\\sklearn\\svm\\base.py:196: FutureWarning: The default value of gamma will change from 'auto' to 'scale' in version 0.22 to account better for unscaled features. Set gamma explicitly to 'auto' or 'scale' to avoid this warning.\n",
      "  \"avoid this warning.\", FutureWarning)\n"
     ]
    },
    {
     "name": "stdout",
     "output_type": "stream",
     "text": [
      "[[186   0   0   0   0   1   0   0   2   0]\n",
      " [  0 203   2   0   0   0   1   0   0   0]\n",
      " [  4   4 200   0   0   1   1   2   1   0]\n",
      " [  1   0   6 179   0   4   0   0   5   0]\n",
      " [  0   1   1   0 173   0   2   0   1   5]\n",
      " [  2   1   1   2   0 181   1   0   5   0]\n",
      " [  2   2   1   0   2   1 199   0   0   0]\n",
      " [  0   0   1   0   1   0   0 226   0   0]\n",
      " [  0   4   0   2   0   1   1   1 184   3]\n",
      " [  0   2   1   2   7   1   0   0   2 175]]\n",
      "SVM precision = 0.953 time = 16.321664094924927\n"
     ]
    },
    {
     "name": "stderr",
     "output_type": "stream",
     "text": [
      "C:\\Users\\linam\\Anaconda3\\lib\\site-packages\\sklearn\\model_selection\\_split.py:2179: FutureWarning: From version 0.21, test_size will always complement train_size unless both are specified.\n",
      "  FutureWarning)\n"
     ]
    },
    {
     "name": "stdout",
     "output_type": "stream",
     "text": [
      "size = 20000\n",
      "[[396   0   0   0   0   1   2   0   0   0]\n",
      " [  0 440   0   0   0   1   1   0   0   0]\n",
      " [  2  13 375   2   1   0   0   7   1   0]\n",
      " [  2   4   3 402   0   3   1   3   1   3]\n",
      " [  0   3   0   0 348   0   1   1   0  16]\n",
      " [  2   1   0   7   1 347   4   1   1   2]\n",
      " [  1   1   0   0   3   2 410   0   0   0]\n",
      " [  1   3   3   0   5   0   0 405   0   4]\n",
      " [  3   3   3   9   3  13   1   3 339   7]\n",
      " [  1   0   0   4   6   0   0   7   0 361]]\n",
      "KNN precision = 0.95575 time = 1.656512975692749\n",
      "[[391   0   1   3   0   2   1   0   0   1]\n",
      " [  0 434   2   0   0   0   0   2   4   0]\n",
      " [  1   1 384   5   2   0   0   2   4   2]\n",
      " [  0   0   4 412   0   3   0   1   1   1]\n",
      " [  1   1   0   0 344   0   0   1   1  21]\n",
      " [  0   0   0  20   1 336   2   2   4   1]\n",
      " [  2   2   1   0   4   1 402   0   5   0]\n",
      " [  0   0   3   2   0   0   0 408   3   5]\n",
      " [  0   2   2   5   2   0   1   3 363   6]\n",
      " [  1   0   0   5   1   1   0   7   3 361]]\n",
      "NN precision = 0.95875 time = 50.676682472229004\n"
     ]
    },
    {
     "name": "stderr",
     "output_type": "stream",
     "text": [
      "C:\\Users\\linam\\Anaconda3\\lib\\site-packages\\sklearn\\svm\\base.py:196: FutureWarning: The default value of gamma will change from 'auto' to 'scale' in version 0.22 to account better for unscaled features. Set gamma explicitly to 'auto' or 'scale' to avoid this warning.\n",
      "  \"avoid this warning.\", FutureWarning)\n"
     ]
    },
    {
     "name": "stdout",
     "output_type": "stream",
     "text": [
      "[[394   0   1   0   0   4   0   0   0   0]\n",
      " [  0 437   0   0   1   0   2   1   1   0]\n",
      " [  2   1 392   0   2   0   1   2   1   0]\n",
      " [  0   2   5 405   0   5   0   3   1   1]\n",
      " [  0   1   1   0 357   1   0   1   0   8]\n",
      " [  0   0   1   8   0 355   0   0   2   0]\n",
      " [  3   1   0   0   4   4 405   0   0   0]\n",
      " [  1   1   3   2   3   0   0 409   1   1]\n",
      " [  1   2   4   4   1   6   0   3 362   1]\n",
      " [  2   0   2   3   5   1   0   4   1 361]]\n",
      "SVM precision = 0.96925 time = 45.389362812042236\n"
     ]
    },
    {
     "name": "stderr",
     "output_type": "stream",
     "text": [
      "C:\\Users\\linam\\Anaconda3\\lib\\site-packages\\sklearn\\model_selection\\_split.py:2179: FutureWarning: From version 0.21, test_size will always complement train_size unless both are specified.\n",
      "  FutureWarning)\n"
     ]
    },
    {
     "name": "stdout",
     "output_type": "stream",
     "text": [
      "size = 30000\n",
      "[[584   1   1   1   0   1   0   0   0   0]\n",
      " [  0 658   0   0   0   0   0   1   0   0]\n",
      " [  3   8 562   2   0   0   0   9   2   1]\n",
      " [  0   4   4 596   0   8   0   4   2   2]\n",
      " [  0   6   1   1 572   0   1   0   0  16]\n",
      " [  1   2   1  12   2 534  10   1   1   6]\n",
      " [  5   2   0   0   0   1 578   0   0   0]\n",
      " [  0   4   3   0   4   0   0 610   0   7]\n",
      " [  1   4   4   4   4  10   4   5 534   2]\n",
      " [  2   3   0   4  10   2   1   8   0 563]]\n",
      "KNN precision = 0.9651666666666666 time = 4.828661680221558\n",
      "[[582   0   1   0   0   0   1   2   1   1]\n",
      " [  0 654   3   1   0   0   0   0   1   0]\n",
      " [  1   2 575   0   3   1   0   2   3   0]\n",
      " [  1   2   7 588   0   3   0   2  13   4]\n",
      " [  1   0   1   0 582   0   2   0   1  10]\n",
      " [  1   1   1   1   1 543  10   0   7   5]\n",
      " [  2   0   0   0   5   0 579   0   0   0]\n",
      " [  0   2   5   0   2   0   0 614   1   4]\n",
      " [  2   1   3   0   0   4   2   3 556   1]\n",
      " [  1   1   0   0  18   5   1   6   5 556]]\n",
      "NN precision = 0.9715 time = 106.98895597457886\n"
     ]
    },
    {
     "name": "stderr",
     "output_type": "stream",
     "text": [
      "C:\\Users\\linam\\Anaconda3\\lib\\site-packages\\sklearn\\svm\\base.py:196: FutureWarning: The default value of gamma will change from 'auto' to 'scale' in version 0.22 to account better for unscaled features. Set gamma explicitly to 'auto' or 'scale' to avoid this warning.\n",
      "  \"avoid this warning.\", FutureWarning)\n"
     ]
    },
    {
     "name": "stdout",
     "output_type": "stream",
     "text": [
      "[[584   0   3   0   0   0   0   0   0   1]\n",
      " [  0 653   3   0   0   0   0   1   2   0]\n",
      " [  2   0 579   1   1   0   1   1   1   1]\n",
      " [  1   1   2 605   0   2   0   2   5   2]\n",
      " [  0   1   2   0 587   1   3   0   0   3]\n",
      " [  2   2   0   4   0 551   7   0   1   3]\n",
      " [  4   0   1   0   2   2 577   0   0   0]\n",
      " [  0   2   4   0   2   0   0 617   1   2]\n",
      " [  2   4   5   4   2   6   1   3 545   0]\n",
      " [  2   1   0   4  13   2   1  11   1 558]]\n",
      "SVM precision = 0.976 time = 80.91161799430847\n"
     ]
    },
    {
     "name": "stderr",
     "output_type": "stream",
     "text": [
      "C:\\Users\\linam\\Anaconda3\\lib\\site-packages\\sklearn\\model_selection\\_split.py:2179: FutureWarning: From version 0.21, test_size will always complement train_size unless both are specified.\n",
      "  FutureWarning)\n"
     ]
    },
    {
     "name": "stdout",
     "output_type": "stream",
     "text": [
      "size = 40000\n"
     ]
    }
   ],
   "source": [
    "# KNN avec k = 3 et distance euclidienne (p = 2)\n",
    "k = 3\n",
    "distance = 2\n",
    "\n",
    "precision_knn = []\n",
    "recall_knn = []\n",
    "time_knn = []\n",
    "tot_time_knn = []\n",
    "error_knn = []\n",
    "cm_knn = []\n",
    "\n",
    "# MLPClassifier: RNN avec 10 couches de 50 neurones et alpha = 0.1 (avec ADAM et ReLu par défaut)\n",
    "nb_couches = 10\n",
    "archi = tuple(50 for i in range(nb_couches))\n",
    "a = 0.1\n",
    "\n",
    "precision_nn = []\n",
    "recall_nn = []\n",
    "time_nn = []\n",
    "tot_time_nn = []\n",
    "error_nn = []\n",
    "cm_nn = []\n",
    "\n",
    "# SVM\n",
    "noyau = 'poly'\n",
    "precision_svm = []\n",
    "recall_svm = []\n",
    "time_svm = []\n",
    "tot_time_svm = []\n",
    "error_svm = []\n",
    "cm_svm = []\n",
    "\n",
    "for d_size in [5000,10000,20000,30000,40000,50000,70000]:\n",
    "    index = np.random.randint(70000, size=d_size)\n",
    "    data = mnist.data[index]\n",
    "    target = mnist.target[index]\n",
    "    #division de la base en données d'apprentissage (80%) et de test (20%)\n",
    "    datatrain, datatest, targettrain, targettest = train_test_split(data, target,train_size=0.80)\n",
    "    print(\"size =\", d_size)\n",
    "    # KNN\n",
    "    clf = neighbors.KNeighborsClassifier(k,p=distance,n_jobs=-1)\n",
    "    start_time = time.time()\n",
    "    clf.fit(datatrain,targettrain)\n",
    "    elapsed = time.time()-start_time\n",
    "    score = clf.score(datatest,targettest)\n",
    "    tottime = time.time() - start_time\n",
    "    testpred = clf.predict(datatest)\n",
    "    rappel = recall_score(targettest,testpred,average='micro')\n",
    "    erreur = zero_one_loss(targettest,testpred)\n",
    "    cm = confusion_matrix(targettest,testpred)\n",
    "    print(cm)\n",
    "    cm_knn.append(cm)\n",
    "    precision_knn.append(score)\n",
    "    recall_knn.append(rappel)\n",
    "    time_knn.append(elapsed)\n",
    "    tot_time_knn.append(tottime)\n",
    "    error_knn.append(erreur)\n",
    "    print(\"KNN precision =\", score,\"time =\",elapsed)\n",
    "    # MLP (NN)\n",
    "    mlp = nn.MLPClassifier(hidden_layer_sizes=archi,alpha=a)\n",
    "    start_time = time.time()\n",
    "    mlp.fit(datatrain,targettrain)\n",
    "    elapsed = time.time()-start_time\n",
    "    score = mlp.score(datatest,targettest)\n",
    "    tottime = time.time() - start_time\n",
    "    testpred = mlp.predict(datatest)\n",
    "    rappel = recall_score(targettest,testpred,average='micro')\n",
    "    erreur = zero_one_loss(targettest,testpred)\n",
    "    cm = confusion_matrix(targettest,testpred)\n",
    "    print(cm)\n",
    "    cm_nn.append(cm)\n",
    "    precision_nn.append(score)\n",
    "    recall_nn.append(rappel)\n",
    "    time_nn.append(elapsed)\n",
    "    tot_time_nn.append(tottime)\n",
    "    error_nn.append(erreur)\n",
    "    print(\"NN precision =\", score,\"time =\",elapsed)\n",
    "    # SVM\n",
    "    clsvm = SVC(kernel=noyau)\n",
    "    start_time = time.time()\n",
    "    clsvm.fit(datatrain,targettrain)\n",
    "    elapsed = time.time()-start_time\n",
    "    score = clsvm.score(datatest,targettest)\n",
    "    tottime = time.time() - start_time\n",
    "    testpred = clsvm.predict(datatest)\n",
    "    rappel = recall_score(targettest,testpred,average='micro')\n",
    "    erreur = zero_one_loss(targettest,testpred)\n",
    "    cm = confusion_matrix(targettest,testpred)\n",
    "    print(cm)\n",
    "    cm_svm.append(cm)\n",
    "    precision_svm.append(score)\n",
    "    recall_svm.append(rappel)\n",
    "    time_svm.append(elapsed)\n",
    "    tot_time_svm.append(tottime)\n",
    "    error_svm.append(erreur)\n",
    "    print(\"SVM precision =\", score,\"time =\",elapsed)"
   ]
  },
  {
   "cell_type": "code",
   "execution_count": null,
   "metadata": {},
   "outputs": [],
   "source": [
    "plt.plot([5000,10000,20000,30000,40000,50000,70000],precision_knn,'r+-', label=\"KNN\")\n",
    "plt.plot([5000,10000,20000,30000,40000,50000,70000],precision_nn,'b+-', label=\"MLP\")\n",
    "plt.plot([5000,10000,20000,30000,40000,50000,70000],precision_svm,'g+-', label=\"SVM\")\n",
    "plt.ylabel('precision')\n",
    "plt.xlabel('size')\n",
    "plt.legend()\n",
    "plt.show()"
   ]
  },
  {
   "cell_type": "code",
   "execution_count": null,
   "metadata": {},
   "outputs": [],
   "source": [
    "plt.plot([5000,10000,20000,30000,40000,50000,70000],recall_knn,'r+-', label=\"KNN\")\n",
    "plt.plot([5000,10000,20000,30000,40000,50000,70000],recall_nn,'b+-', label=\"MLP\")\n",
    "plt.plot([5000,10000,20000,30000,40000,50000,70000],recall_svm,'g+-', label=\"SVM\")\n",
    "plt.ylabel('recall')\n",
    "plt.xlabel('size')\n",
    "plt.legend()\n",
    "plt.show()"
   ]
  },
  {
   "cell_type": "code",
   "execution_count": null,
   "metadata": {},
   "outputs": [],
   "source": [
    "plt.plot([5000,10000,20000,30000,40000,50000,70000],time_knn,'r+-', label=\"KNN\")\n",
    "plt.plot([5000,10000,20000,30000,40000,50000,70000],time_nn,'b+-', label=\"MLP\")\n",
    "plt.plot([5000,10000,20000,30000,40000,50000,70000],time_svm,'g+-', label=\"SVM\")\n",
    "plt.ylabel('training time')\n",
    "plt.xlabel('size')\n",
    "plt.legend()\n",
    "plt.show()"
   ]
  },
  {
   "cell_type": "code",
   "execution_count": null,
   "metadata": {},
   "outputs": [],
   "source": [
    "plt.plot([5000,10000,20000,30000,40000,50000,70000],tot_time_knn,'r+-', label=\"KNN\")\n",
    "plt.plot([5000,10000,20000,30000,40000,50000,70000],tot_time_nn,'b+-', label=\"MLP\")\n",
    "plt.plot([5000,10000,20000,30000,40000,50000,70000],tot_time_svm,'g+-', label=\"SVM\")\n",
    "plt.ylabel('total time')\n",
    "plt.xlabel('size')\n",
    "plt.legend()\n",
    "plt.show()"
   ]
  },
  {
   "cell_type": "code",
   "execution_count": null,
   "metadata": {},
   "outputs": [],
   "source": [
    "plt.plot([5000,10000,20000,30000,40000,50000,70000],error_knn,'r+-', label=\"KNN\")\n",
    "plt.plot([5000,10000,20000,30000,40000,50000,70000],error_nn,'b+-', label=\"NN\")\n",
    "plt.plot([5000,10000,20000,30000,40000,50000,70000],error_svm,'g+-', label=\"SVM\")\n",
    "plt.ylabel('error')\n",
    "plt.xlabel('size')\n",
    "plt.show()"
   ]
  }
 ],
 "metadata": {
  "kernelspec": {
   "display_name": "Python 3",
   "language": "python",
   "name": "python3"
  },
  "language_info": {
   "codemirror_mode": {
    "name": "ipython",
    "version": 3
   },
   "file_extension": ".py",
   "mimetype": "text/x-python",
   "name": "python",
   "nbconvert_exporter": "python",
   "pygments_lexer": "ipython3",
   "version": "3.7.3"
  }
 },
 "nbformat": 4,
 "nbformat_minor": 2
}
